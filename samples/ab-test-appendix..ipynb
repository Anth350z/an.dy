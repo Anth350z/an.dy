{
 "cells": [
  {
   "cell_type": "code",
   "execution_count": 74,
   "metadata": {},
   "outputs": [],
   "source": [
    "import pandas as pd\n",
    "from pandasql import sqldf\n",
    "import numpy as np\n",
    "import matplotlib.pyplot as plt\n",
    "import scipy.stats as scs\n",
    "pysqldf = lambda q: sqldf(q, globals())\n",
    "import random\n",
    "import statsmodels.api as sm"
   ]
  },
  {
   "cell_type": "markdown",
   "metadata": {},
   "source": [
    "# Appendix"
   ]
  },
  {
   "cell_type": "code",
   "execution_count": 4,
   "metadata": {},
   "outputs": [],
   "source": [
    "data = pd.read_csv(\"https://raw.githubusercontent.com/wheremagichappens/an.dy/master/samples/applicant_data.csv\")"
   ]
  },
  {
   "cell_type": "code",
   "execution_count": 5,
   "metadata": {},
   "outputs": [],
   "source": [
    "# For some reason column = group does not work in pandasql so had to change to grouping.\n",
    "data.rename(columns={'group':'grouping'}, inplace=True)"
   ]
  },
  {
   "cell_type": "code",
   "execution_count": 6,
   "metadata": {},
   "outputs": [
    {
     "name": "stdout",
     "output_type": "stream",
     "text": [
      "<class 'pandas.core.frame.DataFrame'>\n",
      "RangeIndex: 108328 entries, 0 to 108327\n",
      "Data columns (total 6 columns):\n",
      "applicant_id    108328 non-null int64\n",
      "channel         108328 non-null object\n",
      "grouping        108328 non-null object\n",
      "city            108328 non-null object\n",
      "event           108328 non-null object\n",
      "event_date      108328 non-null object\n",
      "dtypes: int64(1), object(5)\n",
      "memory usage: 2.9+ MB\n"
     ]
    }
   ],
   "source": [
    "data.info()"
   ]
  },
  {
   "cell_type": "code",
   "execution_count": 7,
   "metadata": {},
   "outputs": [
    {
     "name": "stdout",
     "output_type": "stream",
     "text": [
      "\n"
     ]
    }
   ],
   "source": [
    "# Group the data \n",
    "grouped_data = data.groupby(by = ['grouping', 'event'])\n",
    "\n",
    "# Aggregate the data\n",
    "data_summary = grouped_data.applicant_id.count()\n",
    "\n",
    "# Examine the results\n",
    "print()"
   ]
  },
  {
   "cell_type": "code",
   "execution_count": 8,
   "metadata": {},
   "outputs": [
    {
     "data": {
      "text/plain": [
       "['application_date',\n",
       " 'card_mailed_date',\n",
       " 'orientation_completed_date',\n",
       " 'card_activation_date',\n",
       " 'background_check_initiated_date',\n",
       " 'background_check_completed_date',\n",
       " 'first_batch_completed_date']"
      ]
     },
     "execution_count": 8,
     "metadata": {},
     "output_type": "execute_result"
    }
   ],
   "source": [
    "list(data['event'].drop_duplicates())"
   ]
  },
  {
   "cell_type": "code",
   "execution_count": 9,
   "metadata": {},
   "outputs": [
    {
     "name": "stdout",
     "output_type": "stream",
     "text": [
      "application_date 100.0\n",
      "card_mailed_date 98.4\n",
      "orientation_completed_date 41.3\n",
      "card_activation_date 74.7\n",
      "background_check_initiated_date 74.7\n",
      "background_check_completed_date 65.2\n",
      "first_batch_completed_date 19.8\n"
     ]
    }
   ],
   "source": [
    "# control group (non-randomized) - By event\n",
    "for i in list(data['event'].drop_duplicates()):\n",
    "    print(i, round(data_summary['control'][i] / data_summary['control']['application_date'] * 100, 1))"
   ]
  },
  {
   "cell_type": "code",
   "execution_count": 10,
   "metadata": {},
   "outputs": [
    {
     "name": "stdout",
     "output_type": "stream",
     "text": [
      "application_date 100.0\n",
      "card_mailed_date 98.2\n",
      "orientation_completed_date 46.8\n",
      "card_activation_date 81.8\n",
      "background_check_initiated_date 100.0\n",
      "background_check_completed_date 88.7\n",
      "first_batch_completed_date 34.3\n"
     ]
    }
   ],
   "source": [
    "# treatment group - By event\n",
    "for i in list(data['event'].drop_duplicates()):\n",
    "    print(i, round(data_summary['treatment'][i] / data_summary['treatment']['application_date'] * 100, 1))"
   ]
  },
  {
   "cell_type": "code",
   "execution_count": 11,
   "metadata": {},
   "outputs": [
    {
     "data": {
      "text/plain": [
       "2873"
      ]
     },
     "execution_count": 11,
     "metadata": {},
     "output_type": "execute_result"
    }
   ],
   "source": [
    "# number of applicant_ids with first_batch_completed for control group (non-randomized)\n",
    "c_converted = pysqldf(\"SELECT count(distinct applicant_id) as cnt_fbc FROM data WHERE  grouping = 'control' and event = 'first_batch_completed_date'\")\n",
    "c_converted = c_converted['cnt_fbc'][0]\n",
    "c_converted"
   ]
  },
  {
   "cell_type": "code",
   "execution_count": 12,
   "metadata": {},
   "outputs": [
    {
     "data": {
      "text/plain": [
       "14501"
      ]
     },
     "execution_count": 12,
     "metadata": {},
     "output_type": "execute_result"
    }
   ],
   "source": [
    "# number of total applicant_ids for control group (non-randomized)\n",
    "c_total = pysqldf(\"SELECT count(distinct applicant_id) as cnt_total FROM data WHERE  grouping = 'control'\")\n",
    "c_total = c_total['cnt_total'][0]\n",
    "c_total"
   ]
  },
  {
   "cell_type": "code",
   "execution_count": 13,
   "metadata": {},
   "outputs": [
    {
     "data": {
      "text/plain": [
       "2471"
      ]
     },
     "execution_count": 13,
     "metadata": {},
     "output_type": "execute_result"
    }
   ],
   "source": [
    "# number of applicant_ids with first_batch_completed for treatment group\n",
    "t_converted = pysqldf(\"SELECT count(distinct applicant_id) as cnt_fbc FROM data WHERE  grouping = 'treatment' and event = 'first_batch_completed_date'\")\n",
    "t_converted = t_converted['cnt_fbc'][0]\n",
    "t_converted"
   ]
  },
  {
   "cell_type": "code",
   "execution_count": 14,
   "metadata": {},
   "outputs": [
    {
     "data": {
      "text/plain": [
       "7197"
      ]
     },
     "execution_count": 14,
     "metadata": {},
     "output_type": "execute_result"
    }
   ],
   "source": [
    "# number of total applicant_ids for treatment group\n",
    "t_total = pysqldf(\"SELECT count(distinct applicant_id) as cnt_total FROM data WHERE  grouping = 'treatment'\")\n",
    "t_total = t_total['cnt_total'][0]\n",
    "t_total"
   ]
  },
  {
   "cell_type": "code",
   "execution_count": 15,
   "metadata": {},
   "outputs": [],
   "source": [
    "# Get distinct applicant_id from grouping = 'control' and randomly select 7197 ids\n",
    "c_distinct_id = pysqldf(\"SELECT distinct applicant_id FROM data WHERE grouping = 'control'\")\n",
    "c_distinct_id_list = list(c_distinct_id['applicant_id'])"
   ]
  },
  {
   "cell_type": "code",
   "execution_count": 16,
   "metadata": {},
   "outputs": [],
   "source": [
    "# since we have unbalanced control vs treatment group sample size, we will do randomization to balance sample size (50 / 50)\n",
    "# we will use 7197 applicant_ids for both control and treatment groups\n",
    "random_id = random.sample(c_distinct_id_list, t_total)\n",
    "c_total_random = data[data.applicant_id.isin(random_id)]"
   ]
  },
  {
   "cell_type": "code",
   "execution_count": 17,
   "metadata": {},
   "outputs": [
    {
     "data": {
      "text/plain": [
       "1402"
      ]
     },
     "execution_count": 17,
     "metadata": {},
     "output_type": "execute_result"
    }
   ],
   "source": [
    "# let's get converted count from control group after randomization.\n",
    "c_converted_random = pysqldf(\"select count(distinct applicant_id) as cnt_fbc from c_total_random where event = 'first_batch_completed_date'\")\n",
    "c_converted_random = c_converted_random['cnt_fbc'][0]\n",
    "c_converted_random"
   ]
  },
  {
   "cell_type": "code",
   "execution_count": 18,
   "metadata": {},
   "outputs": [
    {
     "data": {
      "text/plain": [
       "7197"
      ]
     },
     "execution_count": 18,
     "metadata": {},
     "output_type": "execute_result"
    }
   ],
   "source": [
    "# Now, we know total sample size of control group (randomized) is 7197 (50 / 50).\n",
    "c_total_random = len(c_total_random.applicant_id.drop_duplicates())\n",
    "c_total_random"
   ]
  },
  {
   "cell_type": "code",
   "execution_count": 19,
   "metadata": {},
   "outputs": [
    {
     "data": {
      "text/plain": [
       "0.1981242672919109"
      ]
     },
     "execution_count": 19,
     "metadata": {},
     "output_type": "execute_result"
    }
   ],
   "source": [
    "# baseline conversion rate (non-randomized - float) = control conversion rate: ( total number of first_batch_completed in control (non-randomized)  / total number of applicant_id in control (non-randomized) )\n",
    "c_conversion = (c_converted/c_total) \n",
    "c_conversion\n",
    "# bcr = c_conversion\n",
    "#bcr"
   ]
  },
  {
   "cell_type": "code",
   "execution_count": 20,
   "metadata": {},
   "outputs": [
    {
     "data": {
      "text/plain": [
       "0.19480339030151453"
      ]
     },
     "execution_count": 20,
     "metadata": {},
     "output_type": "execute_result"
    }
   ],
   "source": [
    "# baseline conversion rate (randomized - float) = control conversion rate: ( total number of first_batch_completed in control (randomized)  / total number of applicant_id in control (randomized) )\n",
    "c_conversion_random = (c_converted_random/c_total_random)\n",
    "bcr = c_conversion_random\n",
    "bcr"
   ]
  },
  {
   "cell_type": "code",
   "execution_count": 21,
   "metadata": {},
   "outputs": [],
   "source": [
    "# Make a dataframe that only contains control (randomized) information\n",
    "control_random_data = data[data.applicant_id.isin(random_id)]"
   ]
  },
  {
   "cell_type": "code",
   "execution_count": 22,
   "metadata": {},
   "outputs": [
    {
     "name": "stdout",
     "output_type": "stream",
     "text": [
      "event\n",
      "application_date                   7197\n",
      "background_check_completed_date    4714\n",
      "background_check_initiated_date    5368\n",
      "card_activation_date               5368\n",
      "card_mailed_date                   7088\n",
      "first_batch_completed_date         1402\n",
      "orientation_completed_date         2977\n",
      "Name: applicant_id, dtype: int64\n"
     ]
    }
   ],
   "source": [
    "# Group the data \n",
    "grouped_data = control_random_data.groupby(by = ['event'])\n",
    "\n",
    "# Aggregate the data\n",
    "data_summary = grouped_data.applicant_id.count()\n",
    "\n",
    "# Examine the results\n",
    "print(data_summary)"
   ]
  },
  {
   "cell_type": "code",
   "execution_count": 23,
   "metadata": {},
   "outputs": [
    {
     "name": "stdout",
     "output_type": "stream",
     "text": [
      "application_date 100.0\n",
      "card_mailed_date 98.5\n",
      "orientation_completed_date 41.4\n",
      "card_activation_date 74.6\n",
      "background_check_initiated_date 74.6\n",
      "background_check_completed_date 65.5\n",
      "first_batch_completed_date 19.5\n"
     ]
    }
   ],
   "source": [
    "# control group (randomized) - By event \n",
    "for i in list(data['event'].drop_duplicates()):\n",
    "    print(i, round(data_summary[i] / data_summary['application_date'] * 100, 1))"
   ]
  },
  {
   "cell_type": "code",
   "execution_count": 24,
   "metadata": {},
   "outputs": [
    {
     "data": {
      "text/plain": [
       "0.3433375017368348"
      ]
     },
     "execution_count": 24,
     "metadata": {},
     "output_type": "execute_result"
    }
   ],
   "source": [
    "# treatment conversion rate (float): ( total number of first_batch_completed in treatment  / total number of applicant_id in treatment )\n",
    "t_conversion = (t_converted/t_total) \n",
    "t_conversion"
   ]
  },
  {
   "cell_type": "code",
   "execution_count": 25,
   "metadata": {},
   "outputs": [
    {
     "data": {
      "text/plain": [
       "0.14853411143532028"
      ]
     },
     "execution_count": 25,
     "metadata": {},
     "output_type": "execute_result"
    }
   ],
   "source": [
    "# mde (float): minimum change in measurement between control group (randomized) and test group if alternative hypothesis is true, sometimes referred to as minimum detectable effect\n",
    "d_hat = t_conversion - c_conversion_random\n",
    "mde = t_conversion - c_conversion_random\n",
    "mde"
   ]
  },
  {
   "cell_type": "code",
   "execution_count": 26,
   "metadata": {},
   "outputs": [],
   "source": [
    "# From online calculator, https://www.evanmiller.org/ab-testing/sample-size.html, we know that our sampling size is reasonable (>126) for both control and treatment group"
   ]
  },
  {
   "cell_type": "code",
   "execution_count": 27,
   "metadata": {},
   "outputs": [],
   "source": [
    "# Let's perform proportion test to see if our hypothesis is correct.\n",
    "\n",
    "# one-sided (larger) & two-sided\n",
    "\n",
    "# H0: conversion rate difference between treatment and control group is 0.\n",
    "# Ha: conversion rate difference between treatment and control group is not 0.\n",
    "count = np.array([t_converted, c_converted_random])\n",
    "nobs = np.array([t_total, c_total_random])"
   ]
  },
  {
   "cell_type": "code",
   "execution_count": 28,
   "metadata": {},
   "outputs": [
    {
     "name": "stdout",
     "output_type": "stream",
     "text": [
      "z-score: 20.091677365447357 \n",
      "p-value: 8.726371001058168e-90\n",
      "z-score: 20.091677365447357 \n",
      "p-value: 4.363185500529084e-90\n",
      "z-score: 20.091677365447357 \n",
      "p-value: 1.0\n"
     ]
    }
   ],
   "source": [
    "# Find z-score and p-value from proportion test.\n",
    "# From the result, we know p-value < 0.05. We reject null hypothesis (statistically significant).\n",
    "# the difference between conversion rate in control and treatment is not 0. \n",
    "# our d_hat = mde was 14.85%. This improvement in conversion rate after changing the hiring process is not due to random chance.\n",
    "# we are more than 99% confident to reject null hypothesis as p-value is even less than 0.01 for both two-sided and larger case.\n",
    "\n",
    "#two-sided (two-sided, Ha: prop_t != prop_c)\n",
    "z_score, p_value = sm.stats.proportions_ztest(count = count ,nobs = nobs, alternative = 'two-sided')\n",
    "print(\"z-score:\", z_score,\n",
    "     \"\\np-value:\", p_value)\n",
    "\n",
    "#one-sided (larger, Ha: prop_t > prop_c)\n",
    "z_score, p_value = sm.stats.proportions_ztest(count = count ,nobs = nobs, alternative = 'larger')\n",
    "print(\"z-score:\", z_score,\n",
    "     \"\\np-value:\", p_value)\n",
    "\n",
    "#one-sided (Smaller, Ha: prop_t < prop_c)\n",
    "z_score, p_value = sm.stats.proportions_ztest(count = count ,nobs = nobs, alternative = 'smaller')\n",
    "print(\"z-score:\", z_score,\n",
    "     \"\\np-value:\", p_value)"
   ]
  },
  {
   "cell_type": "code",
   "execution_count": 29,
   "metadata": {},
   "outputs": [
    {
     "data": {
      "text/plain": [
       "63172.11338057525"
      ]
     },
     "execution_count": 29,
     "metadata": {},
     "output_type": "execute_result"
    }
   ],
   "source": [
    "# total cost would be paying background check (initial check)\n",
    "# We need to pay $30 for each applicants no matter what\n",
    "# How do we determine sample size for total cost? well, you can apply it to population but this time, let's apply it to control (non-randomized) for simplicity\n",
    "# We will use control group (non-randomized - early background check) as sample to determine total cost\n",
    "# Note that diff_converted can vary depending on the sample size you choose\n",
    "# If we apply this logic to pouplation, c_total should be replaced with population_total\n",
    "diff_converted = (t_conversion * c_total) - (c_conversion * c_total)  # total # of converted after the change in control (non-randomized) – total # of converted before the change in control (non-randomized)\n",
    "total_cost = 30 * (diff_converted)\n",
    "total_cost"
   ]
  },
  {
   "cell_type": "code",
   "execution_count": 55,
   "metadata": {},
   "outputs": [],
   "source": [
    "# Merge control_random_data and treatment_data\n",
    "control_random_treatment_merged = pysqldf(\"SELECT * FROM control_random_data UNION select * from data WHERE grouping = 'treatment'\")"
   ]
  },
  {
   "cell_type": "code",
   "execution_count": 56,
   "metadata": {},
   "outputs": [
    {
     "name": "stdout",
     "output_type": "stream",
     "text": [
      "grouping   channel               \n",
      "control    job-search-site           1209\n",
      "           shopper-referral-bonus    1253\n",
      "           social-media              2036\n",
      "           web-search-engine         2699\n",
      "treatment  job-search-site           1187\n",
      "           shopper-referral-bonus    1233\n",
      "           social-media              2000\n",
      "           web-search-engine         2777\n",
      "Name: applicant_id, dtype: int64\n"
     ]
    }
   ],
   "source": [
    "# Group the data \n",
    "grouped_data = control_random_treatment_merged.groupby(by = ['grouping', 'channel'])\n",
    "\n",
    "# Aggregate the data\n",
    "data_summary = grouped_data.applicant_id.nunique()\n",
    "\n",
    "# Examine the results\n",
    "print(data_summary)"
   ]
  },
  {
   "cell_type": "code",
   "execution_count": 57,
   "metadata": {},
   "outputs": [
    {
     "data": {
      "text/plain": [
       "channel\n",
       "job-search-site           0.164930\n",
       "shopper-referral-bonus    0.171321\n",
       "social-media              0.277894\n",
       "web-search-engine         0.385855\n",
       "Name: applicant_id, dtype: float64"
      ]
     },
     "execution_count": 57,
     "metadata": {},
     "output_type": "execute_result"
    }
   ],
   "source": [
    "# treatment group - channel ratio\n",
    "data_summary['treatment'] / 7197"
   ]
  },
  {
   "cell_type": "code",
   "execution_count": 59,
   "metadata": {
    "scrolled": true
   },
   "outputs": [
    {
     "data": {
      "text/plain": [
       "channel\n",
       "job-search-site           0.167987\n",
       "shopper-referral-bonus    0.174100\n",
       "social-media              0.282896\n",
       "web-search-engine         0.375017\n",
       "Name: applicant_id, dtype: float64"
      ]
     },
     "execution_count": 59,
     "metadata": {},
     "output_type": "execute_result"
    }
   ],
   "source": [
    "# control (randomized) group - channel ratio\n",
    "data_summary['control'] / 7197"
   ]
  },
  {
   "cell_type": "code",
   "execution_count": null,
   "metadata": {},
   "outputs": [],
   "source": [
    "# From above, we know that application ratio using web-search-engine is 1% higher in treatment when the ratio for every other channel is higher in control (randomized)\n",
    "# Could higher ratio in web-search-engine in treatment group affect difference in conversion rate (control vs treatment)?\n",
    "# Do shoppers who applied through web-search-engine have higher chance to complete batch (control vs treatment)?"
   ]
  },
  {
   "cell_type": "code",
   "execution_count": 68,
   "metadata": {},
   "outputs": [
    {
     "name": "stdout",
     "output_type": "stream",
     "text": [
      "grouping   channel                 event                          \n",
      "control    job-search-site         application_date                   1209\n",
      "                                   background_check_completed_date     677\n",
      "                                   background_check_initiated_date     760\n",
      "                                   card_activation_date                760\n",
      "                                   card_mailed_date                   1196\n",
      "                                   first_batch_completed_date          149\n",
      "                                   orientation_completed_date          593\n",
      "           shopper-referral-bonus  application_date                   1253\n",
      "                                   background_check_completed_date     796\n",
      "                                   background_check_initiated_date     978\n",
      "                                   card_activation_date                978\n",
      "                                   card_mailed_date                   1223\n",
      "                                   first_batch_completed_date          279\n",
      "                                   orientation_completed_date          893\n",
      "           social-media            application_date                   2036\n",
      "                                   background_check_completed_date    1483\n",
      "                                   background_check_initiated_date    1646\n",
      "                                   card_activation_date               1646\n",
      "                                   card_mailed_date                   2002\n",
      "                                   first_batch_completed_date          471\n",
      "                                   orientation_completed_date          291\n",
      "           web-search-engine       application_date                   2699\n",
      "                                   background_check_completed_date    1758\n",
      "                                   background_check_initiated_date    1984\n",
      "                                   card_activation_date               1984\n",
      "                                   card_mailed_date                   2667\n",
      "                                   first_batch_completed_date          503\n",
      "                                   orientation_completed_date         1200\n",
      "treatment  job-search-site         application_date                   1187\n",
      "                                   background_check_completed_date    1057\n",
      "                                   background_check_initiated_date    1187\n",
      "                                   card_activation_date                920\n",
      "                                   card_mailed_date                   1170\n",
      "                                   first_batch_completed_date          381\n",
      "                                   orientation_completed_date          649\n",
      "           shopper-referral-bonus  application_date                   1233\n",
      "                                   background_check_completed_date    1014\n",
      "                                   background_check_initiated_date    1233\n",
      "                                   card_activation_date                964\n",
      "                                   card_mailed_date                   1208\n",
      "                                   first_batch_completed_date          442\n",
      "                                   orientation_completed_date          854\n",
      "           social-media            application_date                   2000\n",
      "                                   background_check_completed_date    1814\n",
      "                                   background_check_initiated_date    2000\n",
      "                                   card_activation_date               1678\n",
      "                                   card_mailed_date                   1964\n",
      "                                   first_batch_completed_date          630\n",
      "                                   orientation_completed_date          374\n",
      "           web-search-engine       application_date                   2777\n",
      "                                   background_check_completed_date    2499\n",
      "                                   background_check_initiated_date    2777\n",
      "                                   card_activation_date               2327\n",
      "                                   card_mailed_date                   2729\n",
      "                                   first_batch_completed_date         1018\n",
      "                                   orientation_completed_date         1492\n",
      "Name: applicant_id, dtype: int64\n"
     ]
    }
   ],
   "source": [
    "# Group the data \n",
    "grouped_data = control_random_treatment_merged.groupby(by = ['grouping', 'channel', 'event'])\n",
    "\n",
    "# Aggregate the data\n",
    "data_summary = grouped_data.applicant_id.nunique()\n",
    "\n",
    "# Examine the results\n",
    "print(data_summary)"
   ]
  },
  {
   "cell_type": "code",
   "execution_count": 78,
   "metadata": {},
   "outputs": [
    {
     "name": "stdout",
     "output_type": "stream",
     "text": [
      "grouping   city          event                          \n",
      "control    Alfheim       application_date                    650\n",
      "                         background_check_completed_date     417\n",
      "                         background_check_initiated_date     470\n",
      "                         card_activation_date                470\n",
      "                         card_mailed_date                    633\n",
      "                         first_batch_completed_date          138\n",
      "                         orientation_completed_date          257\n",
      "           Asgard        application_date                   2286\n",
      "                         background_check_completed_date    1495\n",
      "                         background_check_initiated_date    1703\n",
      "                         card_activation_date               1703\n",
      "                         card_mailed_date                   2254\n",
      "                         first_batch_completed_date          438\n",
      "                         orientation_completed_date          927\n",
      "           Helheim       application_date                     46\n",
      "                         background_check_completed_date      29\n",
      "                         background_check_initiated_date      37\n",
      "                         card_activation_date                 37\n",
      "                         card_mailed_date                     46\n",
      "                         first_batch_completed_date            9\n",
      "                         orientation_completed_date           14\n",
      "           Jotunheim     application_date                    110\n",
      "                         background_check_completed_date      80\n",
      "                         background_check_initiated_date      87\n",
      "                         card_activation_date                 87\n",
      "                         card_mailed_date                    108\n",
      "                         first_batch_completed_date           26\n",
      "                         orientation_completed_date           54\n",
      "           Midgard       application_date                   3275\n",
      "                         background_check_completed_date    2129\n",
      "                                                            ... \n",
      "treatment  Midgard       first_batch_completed_date         1139\n",
      "                         orientation_completed_date         1539\n",
      "           Muspelheim    application_date                     58\n",
      "                         background_check_completed_date      51\n",
      "                         background_check_initiated_date      58\n",
      "                         card_activation_date                 49\n",
      "                         card_mailed_date                     58\n",
      "                         first_batch_completed_date           16\n",
      "                         orientation_completed_date           25\n",
      "           Niflheim      application_date                    295\n",
      "                         background_check_completed_date     265\n",
      "                         background_check_initiated_date     295\n",
      "                         card_activation_date                239\n",
      "                         card_mailed_date                    290\n",
      "                         first_batch_completed_date          114\n",
      "                         orientation_completed_date          149\n",
      "           Svartalfheim  application_date                     47\n",
      "                         background_check_completed_date      43\n",
      "                         background_check_initiated_date      47\n",
      "                         card_activation_date                 41\n",
      "                         card_mailed_date                     47\n",
      "                         first_batch_completed_date           15\n",
      "                         orientation_completed_date           18\n",
      "           Vanaheim      application_date                    435\n",
      "                         background_check_completed_date     389\n",
      "                         background_check_initiated_date     435\n",
      "                         card_activation_date                366\n",
      "                         card_mailed_date                    430\n",
      "                         first_batch_completed_date          150\n",
      "                         orientation_completed_date          201\n",
      "Name: applicant_id, Length: 126, dtype: int64\n"
     ]
    }
   ],
   "source": [
    "# Group the data \n",
    "grouped_data = control_random_treatment_merged.groupby(by = ['grouping', 'city', 'event'])\n",
    "\n",
    "# Aggregate the data\n",
    "data_summary = grouped_data.applicant_id.nunique()\n",
    "\n",
    "# Examine the results\n",
    "print(data_summary)"
   ]
  },
  {
   "cell_type": "code",
   "execution_count": 79,
   "metadata": {},
   "outputs": [
    {
     "name": "stdout",
     "output_type": "stream",
     "text": [
      "Asgard 34.2\n",
      "Midgard 34.7\n",
      "Helheim 23.6\n",
      "Alfheim 32.4\n",
      "Jotunheim 36.9\n",
      "Niflheim 38.6\n",
      "Vanaheim 34.5\n",
      "Muspelheim 27.6\n",
      "Svartalfheim 31.9\n"
     ]
    }
   ],
   "source": [
    "# treatment group - by city (batch completed ratio) \n",
    "for i in list(data['city'].drop_duplicates()):\n",
    "    print(i, round(data_summary['treatment'][i]['first_batch_completed_date'] / data_summary['treatment'][i]['application_date'] * 100,1))"
   ]
  },
  {
   "cell_type": "code",
   "execution_count": 80,
   "metadata": {},
   "outputs": [
    {
     "name": "stdout",
     "output_type": "stream",
     "text": [
      "Asgard 19.0\n",
      "Midgard 19.1\n",
      "Helheim 16.4\n",
      "Alfheim 22.5\n",
      "Jotunheim 25.2\n",
      "Niflheim 15.3\n",
      "Vanaheim 22.8\n",
      "Muspelheim 12.1\n",
      "Svartalfheim 23.4\n"
     ]
    }
   ],
   "source": [
    "# control (randomized) group - by city (batch completed ratio) \n",
    "for i in list(data['city'].drop_duplicates()):\n",
    "    print(i, round(data_summary['control'][i]['first_batch_completed_date'] / data_summary['treatment'][i]['application_date'] * 100,1))"
   ]
  },
  {
   "cell_type": "code",
   "execution_count": 86,
   "metadata": {},
   "outputs": [
    {
     "name": "stdout",
     "output_type": "stream",
     "text": [
      "Asgard event\n",
      "application_date                   1.000000\n",
      "background_check_completed_date    0.891587\n",
      "background_check_initiated_date    1.000000\n",
      "card_activation_date               0.816565\n",
      "card_mailed_date                   0.983088\n",
      "first_batch_completed_date         0.341717\n",
      "orientation_completed_date         0.466609\n",
      "Name: applicant_id, dtype: float64\n",
      "Midgard event\n",
      "application_date                   1.000000\n",
      "background_check_completed_date    0.883749\n",
      "background_check_initiated_date    1.000000\n",
      "card_activation_date               0.812538\n",
      "card_mailed_date                   0.980523\n",
      "first_batch_completed_date         0.346622\n",
      "orientation_completed_date         0.468351\n",
      "Name: applicant_id, dtype: float64\n",
      "Helheim event\n",
      "application_date                   1.000000\n",
      "background_check_completed_date    0.890909\n",
      "background_check_initiated_date    1.000000\n",
      "card_activation_date               0.909091\n",
      "card_mailed_date                   0.963636\n",
      "first_batch_completed_date         0.236364\n",
      "orientation_completed_date         0.527273\n",
      "Name: applicant_id, dtype: float64\n",
      "Alfheim event\n",
      "application_date                   1.000000\n",
      "background_check_completed_date    0.877451\n",
      "background_check_initiated_date    1.000000\n",
      "card_activation_date               0.825163\n",
      "card_mailed_date                   0.983660\n",
      "first_batch_completed_date         0.323529\n",
      "orientation_completed_date         0.455882\n",
      "Name: applicant_id, dtype: float64\n",
      "Jotunheim event\n",
      "application_date                   1.000000\n",
      "background_check_completed_date    0.873786\n",
      "background_check_initiated_date    1.000000\n",
      "card_activation_date               0.834951\n",
      "card_mailed_date                   0.990291\n",
      "first_batch_completed_date         0.368932\n",
      "orientation_completed_date         0.514563\n",
      "Name: applicant_id, dtype: float64\n",
      "Niflheim event\n",
      "application_date                   1.000000\n",
      "background_check_completed_date    0.898305\n",
      "background_check_initiated_date    1.000000\n",
      "card_activation_date               0.810169\n",
      "card_mailed_date                   0.983051\n",
      "first_batch_completed_date         0.386441\n",
      "orientation_completed_date         0.505085\n",
      "Name: applicant_id, dtype: float64\n",
      "Vanaheim event\n",
      "application_date                   1.000000\n",
      "background_check_completed_date    0.894253\n",
      "background_check_initiated_date    1.000000\n",
      "card_activation_date               0.841379\n",
      "card_mailed_date                   0.988506\n",
      "first_batch_completed_date         0.344828\n",
      "orientation_completed_date         0.462069\n",
      "Name: applicant_id, dtype: float64\n",
      "Muspelheim event\n",
      "application_date                   1.000000\n",
      "background_check_completed_date    0.879310\n",
      "background_check_initiated_date    1.000000\n",
      "card_activation_date               0.844828\n",
      "card_mailed_date                   1.000000\n",
      "first_batch_completed_date         0.275862\n",
      "orientation_completed_date         0.431034\n",
      "Name: applicant_id, dtype: float64\n",
      "Svartalfheim event\n",
      "application_date                   1.000000\n",
      "background_check_completed_date    0.914894\n",
      "background_check_initiated_date    1.000000\n",
      "card_activation_date               0.872340\n",
      "card_mailed_date                   1.000000\n",
      "first_batch_completed_date         0.319149\n",
      "orientation_completed_date         0.382979\n",
      "Name: applicant_id, dtype: float64\n"
     ]
    }
   ],
   "source": [
    "# treatment group - by city\n",
    "for i in list(data['city'].drop_duplicates()):\n",
    "    print(i, data_summary['treatment'][i] / data_summary['treatment'][i]['application_date'])"
   ]
  },
  {
   "cell_type": "code",
   "execution_count": 87,
   "metadata": {},
   "outputs": [
    {
     "name": "stdout",
     "output_type": "stream",
     "text": [
      "Asgard event\n",
      "application_date                   1.000000\n",
      "background_check_completed_date    0.653981\n",
      "background_check_initiated_date    0.744969\n",
      "card_activation_date               0.744969\n",
      "card_mailed_date                   0.986002\n",
      "first_batch_completed_date         0.191601\n",
      "orientation_completed_date         0.405512\n",
      "Name: applicant_id, dtype: float64\n",
      "Midgard event\n",
      "application_date                   1.000000\n",
      "background_check_completed_date    0.650076\n",
      "background_check_initiated_date    0.744122\n",
      "card_activation_date               0.744122\n",
      "card_mailed_date                   0.985344\n",
      "first_batch_completed_date         0.192061\n",
      "orientation_completed_date         0.424122\n",
      "Name: applicant_id, dtype: float64\n",
      "Helheim event\n",
      "application_date                   1.000000\n",
      "background_check_completed_date    0.630435\n",
      "background_check_initiated_date    0.804348\n",
      "card_activation_date               0.804348\n",
      "card_mailed_date                   1.000000\n",
      "first_batch_completed_date         0.195652\n",
      "orientation_completed_date         0.304348\n",
      "Name: applicant_id, dtype: float64\n",
      "Alfheim event\n",
      "application_date                   1.000000\n",
      "background_check_completed_date    0.641538\n",
      "background_check_initiated_date    0.723077\n",
      "card_activation_date               0.723077\n",
      "card_mailed_date                   0.973846\n",
      "first_batch_completed_date         0.212308\n",
      "orientation_completed_date         0.395385\n",
      "Name: applicant_id, dtype: float64\n",
      "Jotunheim event\n",
      "application_date                   1.000000\n",
      "background_check_completed_date    0.727273\n",
      "background_check_initiated_date    0.790909\n",
      "card_activation_date               0.790909\n",
      "card_mailed_date                   0.981818\n",
      "first_batch_completed_date         0.236364\n",
      "orientation_completed_date         0.490909\n",
      "Name: applicant_id, dtype: float64\n",
      "Niflheim event\n",
      "application_date                   1.000000\n",
      "background_check_completed_date    0.697417\n",
      "background_check_initiated_date    0.797048\n",
      "card_activation_date               0.797048\n",
      "card_mailed_date                   0.988930\n",
      "first_batch_completed_date         0.166052\n",
      "orientation_completed_date         0.391144\n",
      "Name: applicant_id, dtype: float64\n",
      "Vanaheim event\n",
      "application_date                   1.000000\n",
      "background_check_completed_date    0.670282\n",
      "background_check_initiated_date    0.741866\n",
      "card_activation_date               0.741866\n",
      "card_mailed_date                   0.986985\n",
      "first_batch_completed_date         0.214751\n",
      "orientation_completed_date         0.418655\n",
      "Name: applicant_id, dtype: float64\n",
      "Muspelheim event\n",
      "application_date                   1.000000\n",
      "background_check_completed_date    0.596154\n",
      "background_check_initiated_date    0.730769\n",
      "card_activation_date               0.730769\n",
      "card_mailed_date                   0.980769\n",
      "first_batch_completed_date         0.134615\n",
      "orientation_completed_date         0.461538\n",
      "Name: applicant_id, dtype: float64\n",
      "Svartalfheim event\n",
      "application_date                   1.000000\n",
      "background_check_completed_date    0.760870\n",
      "background_check_initiated_date    0.826087\n",
      "card_activation_date               0.826087\n",
      "card_mailed_date                   1.000000\n",
      "first_batch_completed_date         0.239130\n",
      "orientation_completed_date         0.282609\n",
      "Name: applicant_id, dtype: float64\n"
     ]
    }
   ],
   "source": [
    "# control (randomized) group - by city\n",
    "for i in list(data['city'].drop_duplicates()):\n",
    "    print(i, data_summary['control'][i] / data_summary['control'][i]['application_date'])"
   ]
  },
  {
   "cell_type": "code",
   "execution_count": 71,
   "metadata": {},
   "outputs": [
    {
     "name": "stdout",
     "output_type": "stream",
     "text": [
      "web-search-engine 36.7\n",
      "social-media 31.5\n",
      "job-search-site 32.1\n",
      "shopper-referral-bonus 35.8\n"
     ]
    }
   ],
   "source": [
    "# treatment group - by channel (batch completed ratio)\n",
    "for i in list(data['channel'].drop_duplicates()):\n",
    "    print(i, round(data_summary['treatment'][i]['first_batch_completed_date'] / data_summary['treatment'][i]['application_date'] * 100,1))"
   ]
  },
  {
   "cell_type": "code",
   "execution_count": 72,
   "metadata": {},
   "outputs": [
    {
     "name": "stdout",
     "output_type": "stream",
     "text": [
      "web-search-engine 18.6\n",
      "social-media 23.1\n",
      "job-search-site 12.3\n",
      "shopper-referral-bonus 22.3\n"
     ]
    }
   ],
   "source": [
    "# control group (randomized) - by channel (batch completed ratio)\n",
    "for i in list(data['channel'].drop_duplicates()):\n",
    "    print(i, round(data_summary['control'][i]['first_batch_completed_date'] / data_summary['control'][i]['application_date'] * 100,1))"
   ]
  },
  {
   "cell_type": "code",
   "execution_count": null,
   "metadata": {},
   "outputs": [],
   "source": [
    "# Notice the difference\n",
    "# From treatment group, the highest conversion rate comes from web-search-engine (36.7%) and the lowest from social-media (31.5%)\n",
    "# From control (randomized), the highest conversion rate comes from social-media (23.1%) and the lowest from job-search-site (12.3%)\n",
    "# We may want to post more ads on web-search-engine after the change and less on social media from now on\n",
    "# We may want to A/B test for conversion rate difference by each channel just like we did for back ground check\n",
    "# If the result of A/B test is statistically significant, we know the difference is not due to random chance"
   ]
  },
  {
   "cell_type": "code",
   "execution_count": 49,
   "metadata": {},
   "outputs": [
    {
     "name": "stdout",
     "output_type": "stream",
     "text": [
      "web-search-engine event\n",
      "first_batch_completed_date    1018\n",
      "application_date              2777\n",
      "Name: applicant_id, dtype: int64\n",
      "social-media event\n",
      "first_batch_completed_date     630\n",
      "application_date              2000\n",
      "Name: applicant_id, dtype: int64\n",
      "job-search-site event\n",
      "first_batch_completed_date     381\n",
      "application_date              1187\n",
      "Name: applicant_id, dtype: int64\n",
      "shopper-referral-bonus event\n",
      "first_batch_completed_date     442\n",
      "application_date              1233\n",
      "Name: applicant_id, dtype: int64\n"
     ]
    }
   ],
   "source": [
    "# treatment group - first batched/application_date by channel\n",
    "# We will calculate proportion for success for treatment group by channel\n",
    "for i in list(data['channel'].drop_duplicates()):\n",
    "    print(i, data_summary['treatment'][i][['first_batch_completed_date','application_date']])"
   ]
  },
  {
   "cell_type": "code",
   "execution_count": 50,
   "metadata": {},
   "outputs": [
    {
     "name": "stdout",
     "output_type": "stream",
     "text": [
      "web-search-engine event\n",
      "first_batch_completed_date     503\n",
      "application_date              2699\n",
      "Name: applicant_id, dtype: int64\n",
      "social-media event\n",
      "first_batch_completed_date     471\n",
      "application_date              2036\n",
      "Name: applicant_id, dtype: int64\n",
      "job-search-site event\n",
      "first_batch_completed_date     149\n",
      "application_date              1209\n",
      "Name: applicant_id, dtype: int64\n",
      "shopper-referral-bonus event\n",
      "first_batch_completed_date     279\n",
      "application_date              1253\n",
      "Name: applicant_id, dtype: int64\n"
     ]
    }
   ],
   "source": [
    "# control group (non-randomized) - first batched/application_date by channel\n",
    "# We will calculate proportion for success for control group (non-randomized) by channel\n",
    "for i in list(data['channel'].drop_duplicates()):\n",
    "    print(i, data_summary['control'][i][['first_batch_completed_date','application_date']])"
   ]
  },
  {
   "cell_type": "code",
   "execution_count": 51,
   "metadata": {},
   "outputs": [
    {
     "name": "stdout",
     "output_type": "stream",
     "text": [
      "z-score: 7.461021886680081 \n",
      "p-value: 8.585398689090712e-14\n",
      "z-score: 7.461021886680081 \n",
      "p-value: 4.292699344545356e-14\n",
      "z-score: 7.461021886680081 \n",
      "p-value: 0.999999999999957\n"
     ]
    }
   ],
   "source": [
    "#two-sided (two-sided, Ha: prop_t != prop_c) - shopper-referral-bonus\n",
    "\n",
    "z_score, p_value = sm.stats.proportions_ztest(count = [442, 279] ,nobs = [1233, 1253], alternative = 'two-sided')\n",
    "print(\"z-score:\", z_score,\n",
    "     \"\\np-value:\", p_value)\n",
    "\n",
    "#one-sided (larger, Ha: prop_t > prop_c) - shopper-referral-bonus\n",
    "\n",
    "z_score, p_value = sm.stats.proportions_ztest(count = [442, 279] ,nobs = [1233, 1253], alternative = 'larger')\n",
    "print(\"z-score:\", z_score,\n",
    "     \"\\np-value:\", p_value)\n",
    "\n",
    "\n",
    "#onesided (smaller, Ha: prop_t < prop_c) - shopper-referral-bonus\n",
    "\n",
    "z_score, p_value = sm.stats.proportions_ztest(count = [442, 279] ,nobs = [1233, 1253], alternative = 'smaller')\n",
    "print(\"z-score:\", z_score,\n",
    "     \"\\np-value:\", p_value)\n"
   ]
  },
  {
   "cell_type": "code",
   "execution_count": 52,
   "metadata": {},
   "outputs": [
    {
     "name": "stdout",
     "output_type": "stream",
     "text": [
      "z-score: 14.886060659219108 \n",
      "p-value: 4.059964159161729e-50\n",
      "z-score: 14.886060659219108 \n",
      "p-value: 2.0299820795808646e-50\n",
      "z-score: 14.886060659219108 \n",
      "p-value: 1.0\n"
     ]
    }
   ],
   "source": [
    "#two-sided (two-sided, Ha: prop_t != prop_c) - web-search-engine\n",
    "z_score, p_value = sm.stats.proportions_ztest(count = [1018, 503] ,nobs = [2777, 2699], alternative = 'two-sided')\n",
    "print(\"z-score:\", z_score,\n",
    "     \"\\np-value:\", p_value)\n",
    "\n",
    "#one-sided (larger, Ha: prop_t > prop_c) - web-search-engine\n",
    "z_score, p_value = sm.stats.proportions_ztest(count = [1018, 503] ,nobs = [2777, 2699], alternative = 'larger')\n",
    "print(\"z-score:\", z_score,\n",
    "     \"\\np-value:\", p_value)\n",
    "\n",
    "\n",
    "#one-sided (smaller, Ha: prop_t < prop_c) - web-search-engine\n",
    "z_score, p_value = sm.stats.proportions_ztest(count = [1018, 503] ,nobs = [2777, 2699], alternative = 'smaller')\n",
    "print(\"z-score:\", z_score,\n",
    "     \"\\np-value:\", p_value)\n"
   ]
  },
  {
   "cell_type": "code",
   "execution_count": 53,
   "metadata": {},
   "outputs": [
    {
     "name": "stdout",
     "output_type": "stream",
     "text": [
      "z-score: 11.659273790704658 \n",
      "p-value: 2.0579005859118713e-31\n",
      "z-score: 11.659273790704658 \n",
      "p-value: 1.0289502929559356e-31\n",
      "z-score: 11.659273790704658 \n",
      "p-value: 1.0\n"
     ]
    }
   ],
   "source": [
    "#two-sided (two-sided, Ha: prop_t != prop_c) - job-search-site\n",
    "z_score, p_value = sm.stats.proportions_ztest(count = [381, 149] ,nobs = [1187, 1209], alternative = 'two-sided')\n",
    "print(\"z-score:\", z_score,\n",
    "     \"\\np-value:\", p_value)\n",
    "\n",
    "#one-sided (larger, Ha: prop_t > prop_c) - job-search-site\n",
    "z_score, p_value = sm.stats.proportions_ztest(count = [381, 149] ,nobs = [1187, 1209], alternative = 'larger')\n",
    "print(\"z-score:\", z_score,\n",
    "     \"\\np-value:\", p_value)\n",
    "\n",
    "\n",
    "#one-sided (smaller, Ha: prop_t < prop_c) - job-search-site\n",
    "z_score, p_value = sm.stats.proportions_ztest(count = [381, 149] ,nobs = [1187, 1209], alternative = 'smaller')\n",
    "print(\"z-score:\", z_score,\n",
    "     \"\\np-value:\", p_value)\n"
   ]
  },
  {
   "cell_type": "code",
   "execution_count": 54,
   "metadata": {},
   "outputs": [
    {
     "name": "stdout",
     "output_type": "stream",
     "text": [
      "z-score: 5.9665134011648995 \n",
      "p-value: 2.423768404048761e-09\n",
      "z-score: 5.9665134011648995 \n",
      "p-value: 1.2118842020243805e-09\n",
      "z-score: 5.9665134011648995 \n",
      "p-value: 0.9999999987881159\n"
     ]
    }
   ],
   "source": [
    "#two-sided (two-sided, Ha: prop_t != prop_c) - social-media\n",
    "z_score, p_value = sm.stats.proportions_ztest(count = [630, 471] ,nobs = [2000, 2036], alternative = 'two-sided')\n",
    "print(\"z-score:\", z_score,\n",
    "     \"\\np-value:\", p_value)\n",
    "\n",
    "#one-sided (larger, Ha: prop_t > prop_c) - social-media\n",
    "z_score, p_value = sm.stats.proportions_ztest(count = [630, 471] ,nobs = [2000, 2036], alternative = 'larger')\n",
    "print(\"z-score:\", z_score,\n",
    "     \"\\np-value:\", p_value)\n",
    "\n",
    "\n",
    "#one-sided (smaller, Ha: prop_t < prop_c) - social-media\n",
    "z_score, p_value = sm.stats.proportions_ztest(count = [630, 471] ,nobs = [2000, 2036], alternative = 'smaller')\n",
    "print(\"z-score:\", z_score,\n",
    "     \"\\np-value:\", p_value)\n"
   ]
  },
  {
   "cell_type": "code",
   "execution_count": null,
   "metadata": {},
   "outputs": [],
   "source": [
    "# first_batch_completed rate varries by each channel; it is worth it to examine further by channel for both control and treatment group.\n",
    "# We may want to test proportion test for success rate (first_batch_completed_date) by channel.\n",
    "# It could be that the significant difference in terms of success proportions between, say web-search-engine for control and treatment group, could have occurred due to random chance.\n",
    "# What we tested early on was simply to figure out if OVERALL difference in terms of success proportions between control and treatment group was statistically significant.\n",
    "# Before we test and confirm with p-value, we never know if EACH CHANNEL difference in terms of success proprotions between control and treatmnet group is statistically significant.\n",
    "\n",
    "# We also might want to know if advertising strategy by channel is different one another in treatment group compared to control group.\n",
    "\n",
    "# From the results above, we concluded that the difference between treatment and control in terms of conversion rate by channel is not due to random chance."
   ]
  }
 ],
 "metadata": {
  "kernelspec": {
   "display_name": "Python 3",
   "language": "python",
   "name": "python3"
  },
  "language_info": {
   "codemirror_mode": {
    "name": "ipython",
    "version": 3
   },
   "file_extension": ".py",
   "mimetype": "text/x-python",
   "name": "python",
   "nbconvert_exporter": "python",
   "pygments_lexer": "ipython3",
   "version": "3.6.5"
  }
 },
 "nbformat": 4,
 "nbformat_minor": 2
}
