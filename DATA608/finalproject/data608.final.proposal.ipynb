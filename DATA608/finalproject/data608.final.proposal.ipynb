{
 "cells": [
  {
   "cell_type": "markdown",
   "metadata": {},
   "source": [
    "data608 - final proposal\n",
    "\n",
    "By: Sang Yoon (Andy) Hwang\n",
    "\n",
    "Date: 2019-04-07\n",
    "\n",
    "\n",
    "# Link to the data source\n",
    "\n",
    "https://github.com/statsbomb/open-data/tree/master/data\n",
    "    \n",
    "Above github provides World Cup 2018 data sets (matches, events and etc) in json format.\n",
    "\n",
    "# What I want to show\n",
    "\n",
    "I want to visualize heatmap of passing, dribbling and shooting (goal or shots) statistics by each national team's match in World Cup 2018.\n",
    "\n",
    "# Why this is relevant?\n",
    "\n",
    "Advanced sports visualization is a perfect excercise of using pandas, seaborn and other advanced techniques in Python for json data sets.\n",
    "Visualizing where and how each team scored during the match can be a benchmark strategy in understanding and preparing match in advance.\n",
    "\n",
    "# Which technology will be used?\n",
    "\n",
    "I would use Python (pandas, seaborn and possibly flask/dash or other visualization techniques such as plotly, whichever works best)."
   ]
  },
  {
   "cell_type": "code",
   "execution_count": null,
   "metadata": {},
   "outputs": [],
   "source": []
  }
 ],
 "metadata": {
  "kernelspec": {
   "display_name": "Python 3",
   "language": "python",
   "name": "python3"
  },
  "language_info": {
   "codemirror_mode": {
    "name": "ipython",
    "version": 3
   },
   "file_extension": ".py",
   "mimetype": "text/x-python",
   "name": "python",
   "nbconvert_exporter": "python",
   "pygments_lexer": "ipython3",
   "version": "3.6.5"
  }
 },
 "nbformat": 4,
 "nbformat_minor": 2
}
