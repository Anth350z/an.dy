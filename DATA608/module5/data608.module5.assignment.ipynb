{
 "cells": [
  {
   "cell_type": "markdown",
   "metadata": {},
   "source": [
    "data608 - Module 5\n",
    "\n",
    "By: Sang Yoon (Andy) Hwang\n",
    "\n",
    "Date: 2019-04-07"
   ]
  },
  {
   "cell_type": "code",
   "execution_count": null,
   "metadata": {},
   "outputs": [],
   "source": [
    "from flask import Flask, jsonify, send_from_directory, render_template\n",
    "import pandas as pd\n",
    "\n",
    "\n",
    "app = Flask(__name__)\n",
    "\n",
    "\n",
    "# This is an API meant to serve some housing price index data\n",
    "@app.route('/trees/<string:boroname>/<string:health>')\n",
    "def return_hpi_data(boroname, health):\n",
    "\n",
    "    # Read in raw data\n",
    "    soql_url = ('https://data.cityofnewyork.us/resource/nwxe-4ae8.json?' +\\\n",
    "        '$select=count(tree_id),boroname,spc_common, health,status' +\\\n",
    "         '&$where=health!=\\'NaN\\'' +\\\n",
    "        '&$group=boroname,health,status,spc_common').replace(' ', '%20')\n",
    "    \n",
    "    raw_data = pd.read_json(soql_url)\n",
    "\n",
    "    # Filter based on boroname and health\n",
    "    filtered_data = raw_data.loc[(raw_data['boroname'] == boroname) & (raw_data['health'] == health)]\n",
    "\n",
    "    # Build our json, then return it with jsonify\n",
    "    filtered_data_json = {\n",
    "        'spc_common': filtered_data['spc_common'].tolist(),\n",
    "        'count_tree_id': filtered_data['count_tree_id'].tolist(),\n",
    "        'status': filtered_data['status'].tolist()\n",
    "    }\n",
    "\n",
    "    return jsonify(filtered_data_json)\n",
    "\n",
    "\n",
    "# This routing allows us to view index.html\n",
    "@app.route('/')\n",
    "def index():\n",
    "    return render_template('index.html')\n",
    "\n",
    "\n",
    "# This routing allows us to load local Javascript\n",
    "@app.route('/js/<path:path>')\n",
    "def send_js(path):\n",
    "    return send_from_directory('js', path)\n",
    "\n",
    "\n",
    "if __name__ == '__main__':\n",
    "    app.run()"
   ]
  }
 ],
 "metadata": {
  "kernelspec": {
   "display_name": "Python 3",
   "language": "python",
   "name": "python3"
  },
  "language_info": {
   "codemirror_mode": {
    "name": "ipython",
    "version": 3
   },
   "file_extension": ".py",
   "mimetype": "text/x-python",
   "name": "python",
   "nbconvert_exporter": "python",
   "pygments_lexer": "ipython3",
   "version": "3.6.5"
  }
 },
 "nbformat": 4,
 "nbformat_minor": 2
}
