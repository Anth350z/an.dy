{
 "cells": [
  {
   "cell_type": "markdown",
   "metadata": {},
   "source": [
    "# Research Discussion # 1 - recommender system (DATA612)\n",
    "# By: Sang Yoon (Andy) Hwang\n"
   ]
  },
  {
   "cell_type": "markdown",
   "metadata": {},
   "source": [
    "# Does the technique deliver a good experience or are the recommendations off-target?"
   ]
  },
  {
   "cell_type": "markdown",
   "metadata": {},
   "source": [
    "I would say Netflix's recommender system is based on \"collaborative filtering\" as the core assumption here is that the users who have agreed in the past tend to also agree in the future.\n",
    "However, I would not say just because I liked thriller movie or Jonny Depp for instance, I would like to watch movies related to the actor or genre again.\n",
    "I am a person who usually follows directors not necessarily actors. I am not too sure if Netflix also takes directors into consideration when it comes to collaborative filtering. Not only that, I generally think Netflix's recommender system is a little bit broken; for instance, when you search \"seth macfarlane\" in the search tab, you find some random movies/sit-coms that are nothing to do with Family Guy or Seth Macfarlane. I could even see some Horror movie as a similar item."
   ]
  },
  {
   "cell_type": "markdown",
   "metadata": {},
   "source": [
    "# IMDB's rating is biased"
   ]
  },
  {
   "cell_type": "markdown",
   "metadata": {},
   "source": [
    "https://www.imdb.com/title/tt5215952/reviews?ref_=tt_urv\n",
    "\n",
    "Some of the comments on this movie were something like \"I did not like screaming cops in the movie\" and a user rated it 5 out of 10, which is more or less joke.\n",
    "I would say they maybe should implement the rules to qualify certain users (say, if user A is \"professional movie critic\" or rated higher on average by other users, we may want to give more weight to this user) and consider them more seriously.\n",
    "Not only that, maybe we can implement 2 different averages; \"total average\" which include ALL ratings by any user and \"average by professionals\" which include only qualfied users' ratings.\n",
    "\n"
   ]
  },
  {
   "cell_type": "markdown",
   "metadata": {},
   "source": [
    "# Attacks on Recommender System"
   ]
  },
  {
   "cell_type": "markdown",
   "metadata": {},
   "source": [
    "There are tons of examples, including the link I provided above. Usually politically/historically senstive movies are biased toward extreme nationalists.\n",
    "\n",
    "Again, this problem can be resolved by above method - seperate \"professionals\" from \"normals\""
   ]
  }
 ],
 "metadata": {
  "kernelspec": {
   "display_name": "Python 3",
   "language": "python",
   "name": "python3"
  },
  "language_info": {
   "codemirror_mode": {
    "name": "ipython",
    "version": 3
   },
   "file_extension": ".py",
   "mimetype": "text/x-python",
   "name": "python",
   "nbconvert_exporter": "python",
   "pygments_lexer": "ipython3",
   "version": "3.7.0"
  }
 },
 "nbformat": 4,
 "nbformat_minor": 2
}
