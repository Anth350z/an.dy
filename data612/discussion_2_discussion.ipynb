{
 "cells": [
  {
   "cell_type": "markdown",
   "metadata": {},
   "source": [
    "# By: Sang Yoon (Andy) Hwang\n",
    "# Research Discussion Assignment 2\n",
    "\n",
    "Based on the video and few researches on Google, I learned that there are differences between kNN and matrix factorization.\n",
    "With kNN approach, we cannot compute similarity between user and item. \n",
    "We can only compute similarity between user-user or item-item to give recommendations.\n",
    "It is because kNN method does not deal really well with sparse matrices, as such matrices would work better with matrix decomposition algorithms. \n",
    "https://surprise.readthedocs.io/en/stable/matrix_factorization.html\n",
    "    \n",
    "Here are the methods we can use for future assignment:\n",
    "    \n",
    "# surprise.prediction_algorithms.matrix_factorization.SVD \n",
    "\n",
    "The famous SVD algorithm, as popularized by Simon Funk during the Netflix Prize. \n",
    "When baselines are not used, this is equivalent to Probabilistic Matrix Factorization\n",
    "\n",
    "# surprise.prediction_algorithms.matrix_factorization.SVDpp\n",
    "\n",
    "The SVD++ algorithm, an extension of SVD taking into account implicit ratings.\n",
    "\n",
    "# surprise.prediction_algorithms.matrix_factorization.NMF\n",
    "\n",
    "A collaborative filtering algorithm based on Non-negative Matrix Factorization.\n"
   ]
  }
 ],
 "metadata": {
  "kernelspec": {
   "display_name": "Python 3",
   "language": "python",
   "name": "python3"
  },
  "language_info": {
   "codemirror_mode": {
    "name": "ipython",
    "version": 3
   },
   "file_extension": ".py",
   "mimetype": "text/x-python",
   "name": "python",
   "nbconvert_exporter": "python",
   "pygments_lexer": "ipython3",
   "version": "3.7.0"
  }
 },
 "nbformat": 4,
 "nbformat_minor": 2
}
