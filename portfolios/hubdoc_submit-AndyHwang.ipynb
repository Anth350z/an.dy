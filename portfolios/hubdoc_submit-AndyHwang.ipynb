{
 "cells": [
  {
   "cell_type": "markdown",
   "metadata": {},
   "source": [
    "# Data Preparation"
   ]
  },
  {
   "cell_type": "code",
   "execution_count": 102,
   "metadata": {},
   "outputs": [],
   "source": [
    "import pandas as pd\n",
    "from datetime import datetime\n",
    "import matplotlib.pyplot as plt"
   ]
  },
  {
   "cell_type": "code",
   "execution_count": 103,
   "metadata": {},
   "outputs": [],
   "source": [
    "df = pd.read_csv(\"C:/Users/andy/Downloads/Data_Analyst_(ID)_Data_set.csv\")"
   ]
  },
  {
   "cell_type": "markdown",
   "metadata": {},
   "source": [
    "# Exploratory data analysis "
   ]
  },
  {
   "cell_type": "markdown",
   "metadata": {},
   "source": [
    "Description of file:\n",
    "    \n",
    "Id: id of the document\n",
    "\n",
    "doc_type: the filetype of the document\n",
    "\n",
    "Extractor: the entity that extracted data from the document. Whether it was a human or a model\n",
    "\n",
    "Amount: the amount prediction made by our machine learning model for this document\n",
    "\n",
    "Amount_label: human validated value for the amount of this document\n",
    "\n",
    "Bill_date: the bill_date prediction output by our model\n",
    "\n",
    "Bill_date_label: human validated value for bill_date\n",
    "\n",
    "Vendor: vendor prediction made by our model\n",
    "\n",
    "Vendor_label: human validated value for vendor\n",
    "\n",
    "Vendor_score: how confident the extractor is in the vendor prediction, ranges from 0.0 to 1.0\n",
    "\n",
    "Invoice_number: invoice number prediction made by model\n",
    "\n",
    "Invoide_number_label: human validated value for invoice number"
   ]
  },
  {
   "cell_type": "code",
   "execution_count": 104,
   "metadata": {},
   "outputs": [
    {
     "data": {
      "text/html": [
       "<div>\n",
       "<style scoped>\n",
       "    .dataframe tbody tr th:only-of-type {\n",
       "        vertical-align: middle;\n",
       "    }\n",
       "\n",
       "    .dataframe tbody tr th {\n",
       "        vertical-align: top;\n",
       "    }\n",
       "\n",
       "    .dataframe thead th {\n",
       "        text-align: right;\n",
       "    }\n",
       "</style>\n",
       "<table border=\"1\" class=\"dataframe\">\n",
       "  <thead>\n",
       "    <tr style=\"text-align: right;\">\n",
       "      <th></th>\n",
       "      <th>id</th>\n",
       "      <th>doc_type</th>\n",
       "      <th>extractor</th>\n",
       "      <th>amount</th>\n",
       "      <th>amount_label</th>\n",
       "      <th>vendor</th>\n",
       "      <th>vendor_score</th>\n",
       "      <th>vendor_label</th>\n",
       "      <th>invoice_number</th>\n",
       "      <th>invoice_number_label</th>\n",
       "      <th>bill_date</th>\n",
       "      <th>bill_date_label</th>\n",
       "    </tr>\n",
       "  </thead>\n",
       "  <tbody>\n",
       "    <tr>\n",
       "      <th>0</th>\n",
       "      <td>52389374</td>\n",
       "      <td>pdf</td>\n",
       "      <td>model</td>\n",
       "      <td>581.70</td>\n",
       "      <td>581.70</td>\n",
       "      <td>NaN</td>\n",
       "      <td>NaN</td>\n",
       "      <td>Customer 7</td>\n",
       "      <td>1d98332cd1</td>\n",
       "      <td>6161d7fa27</td>\n",
       "      <td>22.08.2018</td>\n",
       "      <td>2018-08-22 00:00:00</td>\n",
       "    </tr>\n",
       "    <tr>\n",
       "      <th>1</th>\n",
       "      <td>51273675</td>\n",
       "      <td>pdf</td>\n",
       "      <td>model</td>\n",
       "      <td>NaN</td>\n",
       "      <td>152.55</td>\n",
       "      <td>camscanner</td>\n",
       "      <td>0.636422</td>\n",
       "      <td>Pickering Auto Lab</td>\n",
       "      <td>NaN</td>\n",
       "      <td>NaN</td>\n",
       "      <td>08/03/2018</td>\n",
       "      <td>2018-08-03 00:00:00</td>\n",
       "    </tr>\n",
       "    <tr>\n",
       "      <th>2</th>\n",
       "      <td>52564036</td>\n",
       "      <td>png</td>\n",
       "      <td>model</td>\n",
       "      <td>193.78</td>\n",
       "      <td>193.78</td>\n",
       "      <td>orientaltrading</td>\n",
       "      <td>0.695752</td>\n",
       "      <td>Oriental Trading</td>\n",
       "      <td>4d723cddbd</td>\n",
       "      <td>NaN</td>\n",
       "      <td>07/26/18</td>\n",
       "      <td>2018-07-26 00:00:00</td>\n",
       "    </tr>\n",
       "    <tr>\n",
       "      <th>3</th>\n",
       "      <td>52835653</td>\n",
       "      <td>png</td>\n",
       "      <td>model</td>\n",
       "      <td>7.00</td>\n",
       "      <td>7.00</td>\n",
       "      <td>bwc.ohio.gov</td>\n",
       "      <td>0.577856</td>\n",
       "      <td>bwc</td>\n",
       "      <td>NaN</td>\n",
       "      <td>NaN</td>\n",
       "      <td>08/06/2018</td>\n",
       "      <td>2018-08-06 00:00:00</td>\n",
       "    </tr>\n",
       "    <tr>\n",
       "      <th>4</th>\n",
       "      <td>52682559</td>\n",
       "      <td>pdf</td>\n",
       "      <td>human</td>\n",
       "      <td>16.33</td>\n",
       "      <td>12.02</td>\n",
       "      <td>cheritzplus</td>\n",
       "      <td>0.850405</td>\n",
       "      <td>Cheritzplus</td>\n",
       "      <td>9c0849c706</td>\n",
       "      <td>9c0849c706</td>\n",
       "      <td>NaN</td>\n",
       "      <td>2017-08-11 00:00:00</td>\n",
       "    </tr>\n",
       "  </tbody>\n",
       "</table>\n",
       "</div>"
      ],
      "text/plain": [
       "         id doc_type extractor  amount  amount_label           vendor  \\\n",
       "0  52389374      pdf     model  581.70        581.70              NaN   \n",
       "1  51273675      pdf     model     NaN        152.55       camscanner   \n",
       "2  52564036      png     model  193.78        193.78  orientaltrading   \n",
       "3  52835653      png     model    7.00          7.00     bwc.ohio.gov   \n",
       "4  52682559      pdf     human   16.33         12.02      cheritzplus   \n",
       "\n",
       "   vendor_score        vendor_label invoice_number invoice_number_label  \\\n",
       "0           NaN          Customer 7     1d98332cd1           6161d7fa27   \n",
       "1      0.636422  Pickering Auto Lab            NaN                  NaN   \n",
       "2      0.695752    Oriental Trading     4d723cddbd                  NaN   \n",
       "3      0.577856                 bwc            NaN                  NaN   \n",
       "4      0.850405         Cheritzplus     9c0849c706           9c0849c706   \n",
       "\n",
       "    bill_date      bill_date_label  \n",
       "0  22.08.2018  2018-08-22 00:00:00  \n",
       "1  08/03/2018  2018-08-03 00:00:00  \n",
       "2    07/26/18  2018-07-26 00:00:00  \n",
       "3  08/06/2018  2018-08-06 00:00:00  \n",
       "4         NaN  2017-08-11 00:00:00  "
      ]
     },
     "execution_count": 104,
     "metadata": {},
     "output_type": "execute_result"
    }
   ],
   "source": [
    "df.head()"
   ]
  },
  {
   "cell_type": "code",
   "execution_count": 105,
   "metadata": {},
   "outputs": [
    {
     "name": "stdout",
     "output_type": "stream",
     "text": [
      "<class 'pandas.core.frame.DataFrame'>\n",
      "RangeIndex: 14830 entries, 0 to 14829\n",
      "Data columns (total 12 columns):\n",
      "id                      14830 non-null int64\n",
      "doc_type                14830 non-null object\n",
      "extractor               14830 non-null object\n",
      "amount                  13767 non-null float64\n",
      "amount_label            14830 non-null float64\n",
      "vendor                  14175 non-null object\n",
      "vendor_score            14175 non-null float64\n",
      "vendor_label            14830 non-null object\n",
      "invoice_number          10778 non-null object\n",
      "invoice_number_label    10696 non-null object\n",
      "bill_date               13909 non-null object\n",
      "bill_date_label         14830 non-null object\n",
      "dtypes: float64(3), int64(1), object(8)\n",
      "memory usage: 926.9+ KB\n"
     ]
    }
   ],
   "source": [
    "df.info()"
   ]
  },
  {
   "cell_type": "code",
   "execution_count": 106,
   "metadata": {},
   "outputs": [
    {
     "data": {
      "text/plain": [
       "14830"
      ]
     },
     "execution_count": 106,
     "metadata": {},
     "output_type": "execute_result"
    }
   ],
   "source": [
    "len(df.id.unique())"
   ]
  },
  {
   "cell_type": "markdown",
   "metadata": {},
   "source": [
    "Let's examine 3 folat64 objects in summary statistics. Since Python does not surpress scientific notation by default, I will use lambda function to surpress it."
   ]
  },
  {
   "cell_type": "code",
   "execution_count": 107,
   "metadata": {},
   "outputs": [
    {
     "data": {
      "text/plain": [
       "count                          13767.000000\n",
       "mean         72640856963727189082112.000000\n",
       "std        8439169307143612307341312.000000\n",
       "min                         -2788915.000000\n",
       "25%                               61.000000\n",
       "50%                              228.500000\n",
       "75%                              911.950000\n",
       "max      990143077020180413558030336.000000\n",
       "Name: amount, dtype: object"
      ]
     },
     "execution_count": 107,
     "metadata": {},
     "output_type": "execute_result"
    }
   ],
   "source": [
    "df['amount'].describe().apply(lambda x: format(x, 'f'))"
   ]
  },
  {
   "cell_type": "code",
   "execution_count": 108,
   "metadata": {},
   "outputs": [
    {
     "data": {
      "text/plain": [
       "count       14830.000000\n",
       "mean         4237.191824\n",
       "std         87058.908060\n",
       "min        -33694.000000\n",
       "25%            64.012500\n",
       "50%           236.275000\n",
       "75%           973.597500\n",
       "max      10000000.000000\n",
       "Name: amount_label, dtype: object"
      ]
     },
     "execution_count": 108,
     "metadata": {},
     "output_type": "execute_result"
    }
   ],
   "source": [
    "df['amount_label'].describe().apply(lambda x: format(x, 'f'))"
   ]
  },
  {
   "cell_type": "code",
   "execution_count": 109,
   "metadata": {},
   "outputs": [
    {
     "data": {
      "text/plain": [
       "count    14175.000000\n",
       "mean         0.893399\n",
       "std          0.122109\n",
       "min          0.460989\n",
       "25%          0.837625\n",
       "50%          0.945853\n",
       "75%          0.987155\n",
       "max          0.999994\n",
       "Name: vendor_score, dtype: object"
      ]
     },
     "execution_count": 109,
     "metadata": {},
     "output_type": "execute_result"
    }
   ],
   "source": [
    "df['vendor_score'].describe().apply(lambda x: format(x, 'f'))"
   ]
  },
  {
   "cell_type": "markdown",
   "metadata": {},
   "source": [
    "I have to watch out here; there are some nulls in some columns. What should we do about this? We will see later on."
   ]
  },
  {
   "cell_type": "code",
   "execution_count": 110,
   "metadata": {},
   "outputs": [
    {
     "data": {
      "text/plain": [
       "id                         0\n",
       "doc_type                   0\n",
       "extractor                  0\n",
       "amount                  1063\n",
       "amount_label               0\n",
       "vendor                   655\n",
       "vendor_score             655\n",
       "vendor_label               0\n",
       "invoice_number          4052\n",
       "invoice_number_label    4134\n",
       "bill_date                921\n",
       "bill_date_label            0\n",
       "dtype: int64"
      ]
     },
     "execution_count": 110,
     "metadata": {},
     "output_type": "execute_result"
    }
   ],
   "source": [
    "df.isnull().sum()"
   ]
  },
  {
   "cell_type": "markdown",
   "metadata": {},
   "source": [
    "# 1. Find the accuracy of the amount, bill_date, vendor, and invoice_number predictions\n",
    "1. Vendor predictions and vendor labels may have slight discrepancies (e.g. Starbucks vs Starbucks Inc., or capitalized vs non-capitalized names), these should still be counted as correct\n",
    "2. The invoice_number label could be null; a null invoice number prediction should be counted as correct if and only if the invoice number label is also null"
   ]
  },
  {
   "cell_type": "markdown",
   "metadata": {},
   "source": [
    "# Accuracy of the amount"
   ]
  },
  {
   "cell_type": "markdown",
   "metadata": {},
   "source": [
    "Assumption: I would consider Null value in amount as \"incorrect\" so I will just count anything that's amount == amount_label.\n",
    "To avoid miscalculation, I will set Null values = -0.1 just in case."
   ]
  },
  {
   "cell_type": "code",
   "execution_count": 111,
   "metadata": {},
   "outputs": [
    {
     "name": "stderr",
     "output_type": "stream",
     "text": [
      "C:\\Users\\andy\\Anaconda3\\lib\\site-packages\\ipykernel_launcher.py:1: SettingWithCopyWarning: \n",
      "A value is trying to be set on a copy of a slice from a DataFrame\n",
      "\n",
      "See the caveats in the documentation: http://pandas.pydata.org/pandas-docs/stable/indexing.html#indexing-view-versus-copy\n",
      "  \"\"\"Entry point for launching an IPython kernel.\n"
     ]
    }
   ],
   "source": [
    "df.amount[df.amount.isnull()] = -0.1"
   ]
  },
  {
   "cell_type": "markdown",
   "metadata": {},
   "source": [
    "It's accuracy is around 86.2%"
   ]
  },
  {
   "cell_type": "code",
   "execution_count": 112,
   "metadata": {},
   "outputs": [
    {
     "data": {
      "text/plain": [
       "86.19689817936616"
      ]
     },
     "execution_count": 112,
     "metadata": {},
     "output_type": "execute_result"
    }
   ],
   "source": [
    "( len(df[df['amount'] == df['amount_label']]) / len(df) ) * 100"
   ]
  },
  {
   "cell_type": "markdown",
   "metadata": {},
   "source": [
    "# Accuracy of the bill_date"
   ]
  },
  {
   "cell_type": "markdown",
   "metadata": {},
   "source": [
    "Since data_format can be in any form, we need to have consistent format for both bill_date and bill_date_label.\n",
    "For example, 22.08.2018 is actually the same as 2018-08-22 but using operation == will consider them as being different one another.\n",
    "I will convert bill_date into the same format as bill_date_label and then compare."
   ]
  },
  {
   "cell_type": "markdown",
   "metadata": {},
   "source": [
    "I will assume Null value as 1900-01-01, which means it was not correctly written by system from the beginning. Not only that, this will be useful later on as it can be used as indexing to filter out abnomalities in the data processing."
   ]
  },
  {
   "cell_type": "code",
   "execution_count": 113,
   "metadata": {},
   "outputs": [
    {
     "name": "stderr",
     "output_type": "stream",
     "text": [
      "C:\\Users\\andy\\Anaconda3\\lib\\site-packages\\ipykernel_launcher.py:1: SettingWithCopyWarning: \n",
      "A value is trying to be set on a copy of a slice from a DataFrame\n",
      "\n",
      "See the caveats in the documentation: http://pandas.pydata.org/pandas-docs/stable/indexing.html#indexing-view-versus-copy\n",
      "  \"\"\"Entry point for launching an IPython kernel.\n"
     ]
    }
   ],
   "source": [
    "df.bill_date[df.bill_date.isnull()] = '1900-01-01 00:00:00'"
   ]
  },
  {
   "cell_type": "markdown",
   "metadata": {},
   "source": [
    "Let's convert bill_date into correct dateframe after replacing some special charters with space. By doing this, pd.to_datatime can convert strings into correct datetime."
   ]
  },
  {
   "cell_type": "code",
   "execution_count": 114,
   "metadata": {},
   "outputs": [
    {
     "name": "stderr",
     "output_type": "stream",
     "text": [
      "C:\\Users\\andy\\Anaconda3\\lib\\site-packages\\ipykernel_launcher.py:4: FutureWarning: set_value is deprecated and will be removed in a future release. Please use .at[] or .iat[] accessors instead\n",
      "  after removing the cwd from sys.path.\n"
     ]
    }
   ],
   "source": [
    "for i in range(len(df)):\n",
    "    # Had to do this try-except since in some row, the iteration fails due to incorrect formatting. We will have to see those that do not work manually. \n",
    "    try:\n",
    "        df.set_value(i,'bill_date', pd.to_datetime(df.bill_date[i].replace(\",\", \" \").replace(\".\", \" \").replace(\"/\",\" \").replace(\"-\",\" \"))) #.set_value is much faster than ordinary for-loop i\n",
    "    except:\n",
    "        pass"
   ]
  },
  {
   "cell_type": "markdown",
   "metadata": {},
   "source": [
    "Let's convert bill_date_label into correct dateframe."
   ]
  },
  {
   "cell_type": "code",
   "execution_count": 115,
   "metadata": {},
   "outputs": [
    {
     "name": "stderr",
     "output_type": "stream",
     "text": [
      "C:\\Users\\andy\\Anaconda3\\lib\\site-packages\\ipykernel_launcher.py:3: FutureWarning: set_value is deprecated and will be removed in a future release. Please use .at[] or .iat[] accessors instead\n",
      "  This is separate from the ipykernel package so we can avoid doing imports until\n"
     ]
    }
   ],
   "source": [
    "for i in range(len(df)):\n",
    "    try:\n",
    "        df.set_value(i,'bill_date_label', pd.to_datetime(df.bill_date_label[i].replace(\",\", \" \").replace(\".\", \" \").replace(\"/\",\" \").replace(\"-\",\" \"))) #.set_value is much faster than ordinary loop i\n",
    "    except:\n",
    "        pass"
   ]
  },
  {
   "cell_type": "markdown",
   "metadata": {},
   "source": [
    "These are the exceptions - those failed during iteration. I can filter it by 1900-01-01.\n",
    "For instance, pd.to_datetime('11') will fail since this is not in convertible format. They failed to convert because these ones are simply recording errors by machine. bill_date = 11 is no way the same as bill_date_label = 2018-08-14 so I will consider all of these as errors."
   ]
  },
  {
   "cell_type": "code",
   "execution_count": 116,
   "metadata": {},
   "outputs": [
    {
     "data": {
      "text/html": [
       "<div>\n",
       "<style scoped>\n",
       "    .dataframe tbody tr th:only-of-type {\n",
       "        vertical-align: middle;\n",
       "    }\n",
       "\n",
       "    .dataframe tbody tr th {\n",
       "        vertical-align: top;\n",
       "    }\n",
       "\n",
       "    .dataframe thead th {\n",
       "        text-align: right;\n",
       "    }\n",
       "</style>\n",
       "<table border=\"1\" class=\"dataframe\">\n",
       "  <thead>\n",
       "    <tr style=\"text-align: right;\">\n",
       "      <th></th>\n",
       "      <th>id</th>\n",
       "      <th>doc_type</th>\n",
       "      <th>extractor</th>\n",
       "      <th>amount</th>\n",
       "      <th>amount_label</th>\n",
       "      <th>vendor</th>\n",
       "      <th>vendor_score</th>\n",
       "      <th>vendor_label</th>\n",
       "      <th>invoice_number</th>\n",
       "      <th>invoice_number_label</th>\n",
       "      <th>bill_date</th>\n",
       "      <th>bill_date_label</th>\n",
       "    </tr>\n",
       "  </thead>\n",
       "  <tbody>\n",
       "    <tr>\n",
       "      <th>119</th>\n",
       "      <td>50246213</td>\n",
       "      <td>pdf</td>\n",
       "      <td>model</td>\n",
       "      <td>13196.64</td>\n",
       "      <td>13196.64</td>\n",
       "      <td>NaN</td>\n",
       "      <td>NaN</td>\n",
       "      <td>PAYROLL</td>\n",
       "      <td>NaN</td>\n",
       "      <td>07c8575263</td>\n",
       "      <td>16, 2018</td>\n",
       "      <td>2018-08-14 00:00:00</td>\n",
       "    </tr>\n",
       "    <tr>\n",
       "      <th>300</th>\n",
       "      <td>50184970</td>\n",
       "      <td>png</td>\n",
       "      <td>model</td>\n",
       "      <td>357.86</td>\n",
       "      <td>357.86</td>\n",
       "      <td>konica minolta business solutions</td>\n",
       "      <td>0.876706</td>\n",
       "      <td>Konica Minolta Business Solutions</td>\n",
       "      <td>4e9a05b48d</td>\n",
       "      <td>4e9a05b48d</td>\n",
       "      <td>15 2018</td>\n",
       "      <td>2018-08-15 00:00:00</td>\n",
       "    </tr>\n",
       "    <tr>\n",
       "      <th>405</th>\n",
       "      <td>50979140</td>\n",
       "      <td>pdf</td>\n",
       "      <td>model</td>\n",
       "      <td>113.86</td>\n",
       "      <td>113.86</td>\n",
       "      <td>cobblestone hotel &amp; suites</td>\n",
       "      <td>0.754441</td>\n",
       "      <td>Cobblestone Hotel &amp; Suites</td>\n",
       "      <td>NaN</td>\n",
       "      <td>NaN</td>\n",
       "      <td>14, 2018</td>\n",
       "      <td>2018-08-14 00:00:00</td>\n",
       "    </tr>\n",
       "    <tr>\n",
       "      <th>1648</th>\n",
       "      <td>50454478</td>\n",
       "      <td>pdf</td>\n",
       "      <td>model</td>\n",
       "      <td>250.00</td>\n",
       "      <td>250.00</td>\n",
       "      <td>charlotte ottawa</td>\n",
       "      <td>0.915269</td>\n",
       "      <td>Jordan David</td>\n",
       "      <td>444e63907d</td>\n",
       "      <td>444e63907d</td>\n",
       "      <td>11</td>\n",
       "      <td>2018-06-28 00:00:00</td>\n",
       "    </tr>\n",
       "    <tr>\n",
       "      <th>2273</th>\n",
       "      <td>51733672</td>\n",
       "      <td>png</td>\n",
       "      <td>model</td>\n",
       "      <td>2943.15</td>\n",
       "      <td>2943.15</td>\n",
       "      <td>green leaf hardwood floors</td>\n",
       "      <td>0.740068</td>\n",
       "      <td>Green Leaf Hardwood Floors</td>\n",
       "      <td>NaN</td>\n",
       "      <td>0d53392925</td>\n",
       "      <td>14/08/201</td>\n",
       "      <td>2018-08-14 00:00:00</td>\n",
       "    </tr>\n",
       "    <tr>\n",
       "      <th>2751</th>\n",
       "      <td>50401006</td>\n",
       "      <td>png</td>\n",
       "      <td>human</td>\n",
       "      <td>132.00</td>\n",
       "      <td>132.00</td>\n",
       "      <td>vacua-therm sales</td>\n",
       "      <td>0.945056</td>\n",
       "      <td>Vacua-Therm Sales Ltd.</td>\n",
       "      <td>642a1198ba</td>\n",
       "      <td>642a1198ba</td>\n",
       "      <td>02 1</td>\n",
       "      <td>2018-08-02 00:00:00</td>\n",
       "    </tr>\n",
       "    <tr>\n",
       "      <th>3480</th>\n",
       "      <td>53054750</td>\n",
       "      <td>pdf</td>\n",
       "      <td>model</td>\n",
       "      <td>1669.28</td>\n",
       "      <td>1669.28</td>\n",
       "      <td>NaN</td>\n",
       "      <td>NaN</td>\n",
       "      <td>By Design Embroidery</td>\n",
       "      <td>90be22e2d4</td>\n",
       "      <td>90be22e2d4</td>\n",
       "      <td>17</td>\n",
       "      <td>2018-08-17 00:00:00</td>\n",
       "    </tr>\n",
       "    <tr>\n",
       "      <th>4737</th>\n",
       "      <td>51293082</td>\n",
       "      <td>pdf</td>\n",
       "      <td>human</td>\n",
       "      <td>-36.17</td>\n",
       "      <td>-36.17</td>\n",
       "      <td>gensco</td>\n",
       "      <td>0.934787</td>\n",
       "      <td>Gensco, Inc.</td>\n",
       "      <td>d53732ecc2</td>\n",
       "      <td>d53732ecc2</td>\n",
       "      <td>16</td>\n",
       "      <td>2018-08-16 00:00:00</td>\n",
       "    </tr>\n",
       "    <tr>\n",
       "      <th>5020</th>\n",
       "      <td>51263278</td>\n",
       "      <td>png</td>\n",
       "      <td>human</td>\n",
       "      <td>26.98</td>\n",
       "      <td>26.98</td>\n",
       "      <td>the home depot</td>\n",
       "      <td>0.979419</td>\n",
       "      <td>The Home Depot</td>\n",
       "      <td>NaN</td>\n",
       "      <td>NaN</td>\n",
       "      <td>13/08</td>\n",
       "      <td>2018-08-13 00:00:00</td>\n",
       "    </tr>\n",
       "    <tr>\n",
       "      <th>5579</th>\n",
       "      <td>51442768</td>\n",
       "      <td>pdf</td>\n",
       "      <td>model</td>\n",
       "      <td>350.00</td>\n",
       "      <td>350.00</td>\n",
       "      <td>area news</td>\n",
       "      <td>0.566572</td>\n",
       "      <td>California Newspapers</td>\n",
       "      <td>NaN</td>\n",
       "      <td>NaN</td>\n",
       "      <td>00/11/18</td>\n",
       "      <td>2018-05-11 00:00:00</td>\n",
       "    </tr>\n",
       "    <tr>\n",
       "      <th>5864</th>\n",
       "      <td>50298522</td>\n",
       "      <td>pdf</td>\n",
       "      <td>model</td>\n",
       "      <td>4.30</td>\n",
       "      <td>4.30</td>\n",
       "      <td>ifc australia co</td>\n",
       "      <td>0.737388</td>\n",
       "      <td>JFC Australia</td>\n",
       "      <td>ac3895195d</td>\n",
       "      <td>ac3895195d</td>\n",
       "      <td>17 2018</td>\n",
       "      <td>2018-08-17 00:00:00</td>\n",
       "    </tr>\n",
       "    <tr>\n",
       "      <th>5888</th>\n",
       "      <td>50869656</td>\n",
       "      <td>png</td>\n",
       "      <td>model</td>\n",
       "      <td>277.50</td>\n",
       "      <td>277.50</td>\n",
       "      <td>gbybrick</td>\n",
       "      <td>0.939640</td>\n",
       "      <td>Glasgow Brickyard Statement</td>\n",
       "      <td>NaN</td>\n",
       "      <td>NaN</td>\n",
       "      <td>15</td>\n",
       "      <td>2018-07-23 00:00:00</td>\n",
       "    </tr>\n",
       "    <tr>\n",
       "      <th>5945</th>\n",
       "      <td>51267376</td>\n",
       "      <td>pdf</td>\n",
       "      <td>model</td>\n",
       "      <td>160.50</td>\n",
       "      <td>160.50</td>\n",
       "      <td>usa equipment solutions</td>\n",
       "      <td>0.995316</td>\n",
       "      <td>USA Equipment Solutions</td>\n",
       "      <td>866f9abc31</td>\n",
       "      <td>866f9abc31</td>\n",
       "      <td>18</td>\n",
       "      <td>2018-08-01 00:00:00</td>\n",
       "    </tr>\n",
       "    <tr>\n",
       "      <th>6371</th>\n",
       "      <td>53064674</td>\n",
       "      <td>pdf</td>\n",
       "      <td>model</td>\n",
       "      <td>199.99</td>\n",
       "      <td>199.99</td>\n",
       "      <td>sourcecable</td>\n",
       "      <td>0.932976</td>\n",
       "      <td>Source Cable</td>\n",
       "      <td>NaN</td>\n",
       "      <td>NaN</td>\n",
       "      <td>08/01</td>\n",
       "      <td>2018-08-01 00:00:00</td>\n",
       "    </tr>\n",
       "    <tr>\n",
       "      <th>6502</th>\n",
       "      <td>51141039</td>\n",
       "      <td>pdf</td>\n",
       "      <td>human</td>\n",
       "      <td>5.42</td>\n",
       "      <td>5.42</td>\n",
       "      <td>amazon</td>\n",
       "      <td>0.995178</td>\n",
       "      <td>Amazon.ca</td>\n",
       "      <td>433cf00f04</td>\n",
       "      <td>2e30294daa</td>\n",
       "      <td>03 1</td>\n",
       "      <td>2018-07-03 00:00:00</td>\n",
       "    </tr>\n",
       "    <tr>\n",
       "      <th>6699</th>\n",
       "      <td>52707560</td>\n",
       "      <td>pdf</td>\n",
       "      <td>model</td>\n",
       "      <td>547.98</td>\n",
       "      <td>547.98</td>\n",
       "      <td>mcsweeneys</td>\n",
       "      <td>0.460989</td>\n",
       "      <td>Core Mark</td>\n",
       "      <td>fc032afd1c</td>\n",
       "      <td>fc032afd1c</td>\n",
       "      <td>12-07</td>\n",
       "      <td>2017-10-21 00:00:00</td>\n",
       "    </tr>\n",
       "    <tr>\n",
       "      <th>7282</th>\n",
       "      <td>52451701</td>\n",
       "      <td>pdf</td>\n",
       "      <td>model</td>\n",
       "      <td>25.58</td>\n",
       "      <td>25.58</td>\n",
       "      <td>NaN</td>\n",
       "      <td>NaN</td>\n",
       "      <td>Loblaws</td>\n",
       "      <td>NaN</td>\n",
       "      <td>NaN</td>\n",
       "      <td>10 / 18</td>\n",
       "      <td>2018-08-10 00:00:00</td>\n",
       "    </tr>\n",
       "    <tr>\n",
       "      <th>7947</th>\n",
       "      <td>51172554</td>\n",
       "      <td>pdf</td>\n",
       "      <td>model</td>\n",
       "      <td>71.02</td>\n",
       "      <td>71.02</td>\n",
       "      <td>all counties glass distributors</td>\n",
       "      <td>0.864464</td>\n",
       "      <td>All Counties Class Distributors</td>\n",
       "      <td>2ebb85ba53</td>\n",
       "      <td>2ebb85ba53</td>\n",
       "      <td>08/07</td>\n",
       "      <td>2018-08-07 00:00:00</td>\n",
       "    </tr>\n",
       "    <tr>\n",
       "      <th>8256</th>\n",
       "      <td>51745764</td>\n",
       "      <td>pdf</td>\n",
       "      <td>model</td>\n",
       "      <td>119.90</td>\n",
       "      <td>119.90</td>\n",
       "      <td>NaN</td>\n",
       "      <td>NaN</td>\n",
       "      <td>Auto Parts Group</td>\n",
       "      <td>6d850bcf65</td>\n",
       "      <td>6d850bcf65</td>\n",
       "      <td>08 02</td>\n",
       "      <td>2018-08-02 00:00:00</td>\n",
       "    </tr>\n",
       "    <tr>\n",
       "      <th>8451</th>\n",
       "      <td>52713554</td>\n",
       "      <td>png</td>\n",
       "      <td>human</td>\n",
       "      <td>35.00</td>\n",
       "      <td>1521.43</td>\n",
       "      <td>NaN</td>\n",
       "      <td>NaN</td>\n",
       "      <td>CDN Protection Ltd</td>\n",
       "      <td>NaN</td>\n",
       "      <td>d200f8670d</td>\n",
       "      <td>18</td>\n",
       "      <td>2018-08-20 00:00:00</td>\n",
       "    </tr>\n",
       "    <tr>\n",
       "      <th>9016</th>\n",
       "      <td>52753716</td>\n",
       "      <td>png</td>\n",
       "      <td>model</td>\n",
       "      <td>877.77</td>\n",
       "      <td>877.77</td>\n",
       "      <td>rsr group</td>\n",
       "      <td>0.999182</td>\n",
       "      <td>RSR Group</td>\n",
       "      <td>557f123d35</td>\n",
       "      <td>557f123d35</td>\n",
       "      <td>13, 2018</td>\n",
       "      <td>2018-08-13 00:00:00</td>\n",
       "    </tr>\n",
       "    <tr>\n",
       "      <th>10363</th>\n",
       "      <td>52573455</td>\n",
       "      <td>pdf</td>\n",
       "      <td>model</td>\n",
       "      <td>521.00</td>\n",
       "      <td>521.00</td>\n",
       "      <td>onplatinum ict</td>\n",
       "      <td>0.982972</td>\n",
       "      <td>onPlatinum ICT Pty Ltd.</td>\n",
       "      <td>92bae06835</td>\n",
       "      <td>92bae06835</td>\n",
       "      <td>07/18</td>\n",
       "      <td>2018-07-31 00:00:00</td>\n",
       "    </tr>\n",
       "    <tr>\n",
       "      <th>10400</th>\n",
       "      <td>51779723</td>\n",
       "      <td>pdf</td>\n",
       "      <td>human</td>\n",
       "      <td>42.80</td>\n",
       "      <td>42.80</td>\n",
       "      <td>em'say</td>\n",
       "      <td>0.944551</td>\n",
       "      <td>Brixwork</td>\n",
       "      <td>185c76c2ca</td>\n",
       "      <td>NaN</td>\n",
       "      <td>07 12</td>\n",
       "      <td>2018-07-12 00:00:00</td>\n",
       "    </tr>\n",
       "    <tr>\n",
       "      <th>11940</th>\n",
       "      <td>51147332</td>\n",
       "      <td>png</td>\n",
       "      <td>model</td>\n",
       "      <td>495.44</td>\n",
       "      <td>495.44</td>\n",
       "      <td>envirowest</td>\n",
       "      <td>0.696801</td>\n",
       "      <td>Envirowest Consultants Inc.</td>\n",
       "      <td>726ccab48e</td>\n",
       "      <td>726ccab48e</td>\n",
       "      <td>07 26</td>\n",
       "      <td>2018-07-26 00:00:00</td>\n",
       "    </tr>\n",
       "    <tr>\n",
       "      <th>12673</th>\n",
       "      <td>51954817</td>\n",
       "      <td>pdf</td>\n",
       "      <td>model</td>\n",
       "      <td>100.00</td>\n",
       "      <td>100.00</td>\n",
       "      <td>megan</td>\n",
       "      <td>0.666034</td>\n",
       "      <td>Lacamas Lake Kayaks</td>\n",
       "      <td>c771771dde</td>\n",
       "      <td>NaN</td>\n",
       "      <td>13</td>\n",
       "      <td>2018-08-13 00:00:00</td>\n",
       "    </tr>\n",
       "    <tr>\n",
       "      <th>13493</th>\n",
       "      <td>51950480</td>\n",
       "      <td>pdf</td>\n",
       "      <td>model</td>\n",
       "      <td>2617.70</td>\n",
       "      <td>2617.70</td>\n",
       "      <td>NaN</td>\n",
       "      <td>NaN</td>\n",
       "      <td>Global Rental Co., Inc.</td>\n",
       "      <td>512f161b6c</td>\n",
       "      <td>512f161b6c</td>\n",
       "      <td>08 06</td>\n",
       "      <td>2018-08-06 00:00:00</td>\n",
       "    </tr>\n",
       "    <tr>\n",
       "      <th>13627</th>\n",
       "      <td>51457934</td>\n",
       "      <td>png</td>\n",
       "      <td>model</td>\n",
       "      <td>-0.10</td>\n",
       "      <td>19.38</td>\n",
       "      <td>NaN</td>\n",
       "      <td>NaN</td>\n",
       "      <td>Bunnings warehouse</td>\n",
       "      <td>NaN</td>\n",
       "      <td>NaN</td>\n",
       "      <td>04/23</td>\n",
       "      <td>2018-04-23 00:00:00</td>\n",
       "    </tr>\n",
       "    <tr>\n",
       "      <th>13731</th>\n",
       "      <td>51773141</td>\n",
       "      <td>png</td>\n",
       "      <td>model</td>\n",
       "      <td>1803.41</td>\n",
       "      <td>1803.41</td>\n",
       "      <td>marquis de kampot peppercorn</td>\n",
       "      <td>0.645027</td>\n",
       "      <td>Marquis De Kampot Peppercorn</td>\n",
       "      <td>e3dae3c478</td>\n",
       "      <td>6a4e8b30b1</td>\n",
       "      <td>16/201</td>\n",
       "      <td>2016-07-16 00:00:00</td>\n",
       "    </tr>\n",
       "    <tr>\n",
       "      <th>13862</th>\n",
       "      <td>51560821</td>\n",
       "      <td>pdf</td>\n",
       "      <td>human</td>\n",
       "      <td>320.08</td>\n",
       "      <td>320.08</td>\n",
       "      <td>ecr4kids</td>\n",
       "      <td>0.994604</td>\n",
       "      <td>ECR4Kids</td>\n",
       "      <td>8ccccacf46</td>\n",
       "      <td>8ccccacf46</td>\n",
       "      <td>18,120</td>\n",
       "      <td>2018-07-27 00:00:00</td>\n",
       "    </tr>\n",
       "  </tbody>\n",
       "</table>\n",
       "</div>"
      ],
      "text/plain": [
       "             id doc_type extractor    amount  amount_label  \\\n",
       "119    50246213      pdf     model  13196.64      13196.64   \n",
       "300    50184970      png     model    357.86        357.86   \n",
       "405    50979140      pdf     model    113.86        113.86   \n",
       "1648   50454478      pdf     model    250.00        250.00   \n",
       "2273   51733672      png     model   2943.15       2943.15   \n",
       "2751   50401006      png     human    132.00        132.00   \n",
       "3480   53054750      pdf     model   1669.28       1669.28   \n",
       "4737   51293082      pdf     human    -36.17        -36.17   \n",
       "5020   51263278      png     human     26.98         26.98   \n",
       "5579   51442768      pdf     model    350.00        350.00   \n",
       "5864   50298522      pdf     model      4.30          4.30   \n",
       "5888   50869656      png     model    277.50        277.50   \n",
       "5945   51267376      pdf     model    160.50        160.50   \n",
       "6371   53064674      pdf     model    199.99        199.99   \n",
       "6502   51141039      pdf     human      5.42          5.42   \n",
       "6699   52707560      pdf     model    547.98        547.98   \n",
       "7282   52451701      pdf     model     25.58         25.58   \n",
       "7947   51172554      pdf     model     71.02         71.02   \n",
       "8256   51745764      pdf     model    119.90        119.90   \n",
       "8451   52713554      png     human     35.00       1521.43   \n",
       "9016   52753716      png     model    877.77        877.77   \n",
       "10363  52573455      pdf     model    521.00        521.00   \n",
       "10400  51779723      pdf     human     42.80         42.80   \n",
       "11940  51147332      png     model    495.44        495.44   \n",
       "12673  51954817      pdf     model    100.00        100.00   \n",
       "13493  51950480      pdf     model   2617.70       2617.70   \n",
       "13627  51457934      png     model     -0.10         19.38   \n",
       "13731  51773141      png     model   1803.41       1803.41   \n",
       "13862  51560821      pdf     human    320.08        320.08   \n",
       "\n",
       "                                  vendor  vendor_score  \\\n",
       "119                                  NaN           NaN   \n",
       "300    konica minolta business solutions      0.876706   \n",
       "405           cobblestone hotel & suites      0.754441   \n",
       "1648                    charlotte ottawa      0.915269   \n",
       "2273          green leaf hardwood floors      0.740068   \n",
       "2751                   vacua-therm sales      0.945056   \n",
       "3480                                 NaN           NaN   \n",
       "4737                              gensco      0.934787   \n",
       "5020                      the home depot      0.979419   \n",
       "5579                           area news      0.566572   \n",
       "5864                    ifc australia co      0.737388   \n",
       "5888                            gbybrick      0.939640   \n",
       "5945             usa equipment solutions      0.995316   \n",
       "6371                         sourcecable      0.932976   \n",
       "6502                              amazon      0.995178   \n",
       "6699                          mcsweeneys      0.460989   \n",
       "7282                                 NaN           NaN   \n",
       "7947     all counties glass distributors      0.864464   \n",
       "8256                                 NaN           NaN   \n",
       "8451                                 NaN           NaN   \n",
       "9016                           rsr group      0.999182   \n",
       "10363                     onplatinum ict      0.982972   \n",
       "10400                             em'say      0.944551   \n",
       "11940                         envirowest      0.696801   \n",
       "12673                              megan      0.666034   \n",
       "13493                                NaN           NaN   \n",
       "13627                                NaN           NaN   \n",
       "13731       marquis de kampot peppercorn      0.645027   \n",
       "13862                           ecr4kids      0.994604   \n",
       "\n",
       "                            vendor_label invoice_number invoice_number_label  \\\n",
       "119                              PAYROLL            NaN           07c8575263   \n",
       "300    Konica Minolta Business Solutions     4e9a05b48d           4e9a05b48d   \n",
       "405           Cobblestone Hotel & Suites            NaN                  NaN   \n",
       "1648                        Jordan David     444e63907d           444e63907d   \n",
       "2273          Green Leaf Hardwood Floors            NaN           0d53392925   \n",
       "2751              Vacua-Therm Sales Ltd.     642a1198ba           642a1198ba   \n",
       "3480                By Design Embroidery     90be22e2d4           90be22e2d4   \n",
       "4737                        Gensco, Inc.     d53732ecc2           d53732ecc2   \n",
       "5020                      The Home Depot            NaN                  NaN   \n",
       "5579               California Newspapers            NaN                  NaN   \n",
       "5864                       JFC Australia     ac3895195d           ac3895195d   \n",
       "5888         Glasgow Brickyard Statement            NaN                  NaN   \n",
       "5945             USA Equipment Solutions     866f9abc31           866f9abc31   \n",
       "6371                        Source Cable            NaN                  NaN   \n",
       "6502                           Amazon.ca     433cf00f04           2e30294daa   \n",
       "6699                           Core Mark     fc032afd1c           fc032afd1c   \n",
       "7282                             Loblaws            NaN                  NaN   \n",
       "7947     All Counties Class Distributors     2ebb85ba53           2ebb85ba53   \n",
       "8256                    Auto Parts Group     6d850bcf65           6d850bcf65   \n",
       "8451                  CDN Protection Ltd            NaN           d200f8670d   \n",
       "9016                           RSR Group     557f123d35           557f123d35   \n",
       "10363            onPlatinum ICT Pty Ltd.     92bae06835           92bae06835   \n",
       "10400                           Brixwork     185c76c2ca                  NaN   \n",
       "11940        Envirowest Consultants Inc.     726ccab48e           726ccab48e   \n",
       "12673                Lacamas Lake Kayaks     c771771dde                  NaN   \n",
       "13493            Global Rental Co., Inc.     512f161b6c           512f161b6c   \n",
       "13627                 Bunnings warehouse            NaN                  NaN   \n",
       "13731       Marquis De Kampot Peppercorn     e3dae3c478           6a4e8b30b1   \n",
       "13862                           ECR4Kids     8ccccacf46           8ccccacf46   \n",
       "\n",
       "       bill_date      bill_date_label  \n",
       "119     16, 2018  2018-08-14 00:00:00  \n",
       "300      15 2018  2018-08-15 00:00:00  \n",
       "405     14, 2018  2018-08-14 00:00:00  \n",
       "1648          11  2018-06-28 00:00:00  \n",
       "2273   14/08/201  2018-08-14 00:00:00  \n",
       "2751        02 1  2018-08-02 00:00:00  \n",
       "3480          17  2018-08-17 00:00:00  \n",
       "4737          16  2018-08-16 00:00:00  \n",
       "5020       13/08  2018-08-13 00:00:00  \n",
       "5579    00/11/18  2018-05-11 00:00:00  \n",
       "5864     17 2018  2018-08-17 00:00:00  \n",
       "5888          15  2018-07-23 00:00:00  \n",
       "5945          18  2018-08-01 00:00:00  \n",
       "6371       08/01  2018-08-01 00:00:00  \n",
       "6502        03 1  2018-07-03 00:00:00  \n",
       "6699       12-07  2017-10-21 00:00:00  \n",
       "7282     10 / 18  2018-08-10 00:00:00  \n",
       "7947       08/07  2018-08-07 00:00:00  \n",
       "8256       08 02  2018-08-02 00:00:00  \n",
       "8451          18  2018-08-20 00:00:00  \n",
       "9016    13, 2018  2018-08-13 00:00:00  \n",
       "10363      07/18  2018-07-31 00:00:00  \n",
       "10400      07 12  2018-07-12 00:00:00  \n",
       "11940      07 26  2018-07-26 00:00:00  \n",
       "12673         13  2018-08-13 00:00:00  \n",
       "13493      08 06  2018-08-06 00:00:00  \n",
       "13627      04/23  2018-04-23 00:00:00  \n",
       "13731     16/201  2016-07-16 00:00:00  \n",
       "13862     18,120  2018-07-27 00:00:00  "
      ]
     },
     "execution_count": 116,
     "metadata": {},
     "output_type": "execute_result"
    }
   ],
   "source": [
    "df[df.bill_date.astype('str') < '1900-01-01 00:00:00']"
   ]
  },
  {
   "cell_type": "markdown",
   "metadata": {},
   "source": [
    "Considering all machine errors (including the ones above, which are recording error by machine), accuracy is around 81.8%"
   ]
  },
  {
   "cell_type": "code",
   "execution_count": 117,
   "metadata": {},
   "outputs": [
    {
     "data": {
      "text/plain": [
       "81.83412002697236"
      ]
     },
     "execution_count": 117,
     "metadata": {},
     "output_type": "execute_result"
    }
   ],
   "source": [
    "( len(df[df.bill_date.astype('str') == df.bill_date_label.astype('str')]) / len(df) ) * 100"
   ]
  },
  {
   "cell_type": "markdown",
   "metadata": {},
   "source": [
    "# Accuracy of vendor"
   ]
  },
  {
   "cell_type": "markdown",
   "metadata": {},
   "source": [
    "Let's implement the logic \n",
    "\n",
    "1) convert every string into lower case\n",
    "\n",
    "2) remove \"`\" and \"&\" (special characters) in vendor/vendor_label\n",
    "\n",
    "3) remove \"the\", \"inc\", \"Ltd\" and \"Limited\" in vendor/vendor_label\n",
    "\n",
    "4) remove spaces and put them in to \"clean\" columns\n",
    "\n",
    "4) match by first 3 letters\n",
    "\n",
    "5) partial match from 3)"
   ]
  },
  {
   "cell_type": "markdown",
   "metadata": {},
   "source": [
    "Since vendor column has some null values, we will have to clean this up. We have 2 options: 1 - remove them, 2 - convert them into some random string like '_VOIDERROR_NOTFOUND'.\n",
    "Since I do not have enough information on these null values (sometimes null means off-the-target by model), I will just consider them as error by machine and convert them instead of removing them"
   ]
  },
  {
   "cell_type": "code",
   "execution_count": 118,
   "metadata": {},
   "outputs": [
    {
     "name": "stderr",
     "output_type": "stream",
     "text": [
      "C:\\Users\\andy\\Anaconda3\\lib\\site-packages\\ipykernel_launcher.py:1: SettingWithCopyWarning: \n",
      "A value is trying to be set on a copy of a slice from a DataFrame\n",
      "\n",
      "See the caveats in the documentation: http://pandas.pydata.org/pandas-docs/stable/indexing.html#indexing-view-versus-copy\n",
      "  \"\"\"Entry point for launching an IPython kernel.\n"
     ]
    }
   ],
   "source": [
    "df.vendor[df.vendor.isnull()] = '_VOIDERROR_NOTFOUND'"
   ]
  },
  {
   "cell_type": "code",
   "execution_count": 119,
   "metadata": {},
   "outputs": [],
   "source": [
    "vendor_label_clean = []\n",
    "for i in range(len(df.vendor_label)):\n",
    "    string = df.vendor_label[i].lower()\n",
    "  #  string = string.split(\" \")[0]\n",
    "    clean = ''.join(e for e in string if e.isalnum())  # remove all special characters like ` and &. Also, it removes spaces in between.\n",
    "    clean = clean.replace(\"the\", \"\").replace(\"inc\",\"\").replace(\"ltd\",\"\").replace(\"limited\",\"\")#.replace(\"Co\",\"\")\n",
    "    vendor_label_clean.append(clean)"
   ]
  },
  {
   "cell_type": "code",
   "execution_count": 120,
   "metadata": {},
   "outputs": [],
   "source": [
    "vendor_clean = []\n",
    "for i in range(len(df.vendor)):\n",
    "    string = df.vendor[i].lower()\n",
    " #   string = string.split(\" \")[0]\n",
    "    clean = ''.join(e for e in string if e.isalnum()) # remove all special characters like ` and &. Also, it removes spaces in between.\n",
    "    clean = clean.replace(\"the\", \"\").replace(\"inc\",\"\").replace(\"ltd\",\"\").replace(\"limited\",\"\")#.replace(\"Co\",\"\")\n",
    "    vendor_clean.append(clean)"
   ]
  },
  {
   "cell_type": "code",
   "execution_count": 121,
   "metadata": {},
   "outputs": [],
   "source": [
    "df['vendor_clean'] = vendor_clean\n",
    "df['vendor_label_clean'] = vendor_label_clean"
   ]
  },
  {
   "cell_type": "code",
   "execution_count": 122,
   "metadata": {},
   "outputs": [
    {
     "data": {
      "text/html": [
       "<div>\n",
       "<style scoped>\n",
       "    .dataframe tbody tr th:only-of-type {\n",
       "        vertical-align: middle;\n",
       "    }\n",
       "\n",
       "    .dataframe tbody tr th {\n",
       "        vertical-align: top;\n",
       "    }\n",
       "\n",
       "    .dataframe thead th {\n",
       "        text-align: right;\n",
       "    }\n",
       "</style>\n",
       "<table border=\"1\" class=\"dataframe\">\n",
       "  <thead>\n",
       "    <tr style=\"text-align: right;\">\n",
       "      <th></th>\n",
       "      <th>id</th>\n",
       "      <th>doc_type</th>\n",
       "      <th>extractor</th>\n",
       "      <th>amount</th>\n",
       "      <th>amount_label</th>\n",
       "      <th>vendor</th>\n",
       "      <th>vendor_score</th>\n",
       "      <th>vendor_label</th>\n",
       "      <th>invoice_number</th>\n",
       "      <th>invoice_number_label</th>\n",
       "      <th>bill_date</th>\n",
       "      <th>bill_date_label</th>\n",
       "      <th>vendor_clean</th>\n",
       "      <th>vendor_label_clean</th>\n",
       "    </tr>\n",
       "  </thead>\n",
       "  <tbody>\n",
       "    <tr>\n",
       "      <th>0</th>\n",
       "      <td>52389374</td>\n",
       "      <td>pdf</td>\n",
       "      <td>model</td>\n",
       "      <td>581.7</td>\n",
       "      <td>581.70</td>\n",
       "      <td>_VOIDERROR_NOTFOUND</td>\n",
       "      <td>NaN</td>\n",
       "      <td>Customer 7</td>\n",
       "      <td>1d98332cd1</td>\n",
       "      <td>6161d7fa27</td>\n",
       "      <td>2018-08-22 00:00:00</td>\n",
       "      <td>2018-08-22 00:00:00</td>\n",
       "      <td>voiderrornotfound</td>\n",
       "      <td>customer7</td>\n",
       "    </tr>\n",
       "    <tr>\n",
       "      <th>1</th>\n",
       "      <td>51273675</td>\n",
       "      <td>pdf</td>\n",
       "      <td>model</td>\n",
       "      <td>-0.1</td>\n",
       "      <td>152.55</td>\n",
       "      <td>camscanner</td>\n",
       "      <td>0.636422</td>\n",
       "      <td>Pickering Auto Lab</td>\n",
       "      <td>NaN</td>\n",
       "      <td>NaN</td>\n",
       "      <td>2018-08-03 00:00:00</td>\n",
       "      <td>2018-08-03 00:00:00</td>\n",
       "      <td>camscanner</td>\n",
       "      <td>pickeringautolab</td>\n",
       "    </tr>\n",
       "    <tr>\n",
       "      <th>3</th>\n",
       "      <td>52835653</td>\n",
       "      <td>png</td>\n",
       "      <td>model</td>\n",
       "      <td>7.0</td>\n",
       "      <td>7.00</td>\n",
       "      <td>bwc.ohio.gov</td>\n",
       "      <td>0.577856</td>\n",
       "      <td>bwc</td>\n",
       "      <td>NaN</td>\n",
       "      <td>NaN</td>\n",
       "      <td>2018-08-06 00:00:00</td>\n",
       "      <td>2018-08-06 00:00:00</td>\n",
       "      <td>bwcohiogov</td>\n",
       "      <td>bwc</td>\n",
       "    </tr>\n",
       "    <tr>\n",
       "      <th>8</th>\n",
       "      <td>52542848</td>\n",
       "      <td>png</td>\n",
       "      <td>model</td>\n",
       "      <td>500.0</td>\n",
       "      <td>500.00</td>\n",
       "      <td>performance lifestyle</td>\n",
       "      <td>0.965157</td>\n",
       "      <td>Julia McRae</td>\n",
       "      <td>9c37575e05</td>\n",
       "      <td>NaN</td>\n",
       "      <td>2018-08-03 00:00:00</td>\n",
       "      <td>2018-08-03 00:00:00</td>\n",
       "      <td>performancelifestyle</td>\n",
       "      <td>juliamcrae</td>\n",
       "    </tr>\n",
       "    <tr>\n",
       "      <th>11</th>\n",
       "      <td>53023604</td>\n",
       "      <td>png</td>\n",
       "      <td>model</td>\n",
       "      <td>50.0</td>\n",
       "      <td>50.00</td>\n",
       "      <td>constant contact</td>\n",
       "      <td>0.764993</td>\n",
       "      <td>Rethinking Construction</td>\n",
       "      <td>6601979663</td>\n",
       "      <td>6601979663</td>\n",
       "      <td>2018-07-21 00:00:00</td>\n",
       "      <td>2018-07-20 00:00:00</td>\n",
       "      <td>constantcontact</td>\n",
       "      <td>rethinkingconstruction</td>\n",
       "    </tr>\n",
       "  </tbody>\n",
       "</table>\n",
       "</div>"
      ],
      "text/plain": [
       "          id doc_type extractor  amount  amount_label                 vendor  \\\n",
       "0   52389374      pdf     model   581.7        581.70    _VOIDERROR_NOTFOUND   \n",
       "1   51273675      pdf     model    -0.1        152.55             camscanner   \n",
       "3   52835653      png     model     7.0          7.00           bwc.ohio.gov   \n",
       "8   52542848      png     model   500.0        500.00  performance lifestyle   \n",
       "11  53023604      png     model    50.0         50.00       constant contact   \n",
       "\n",
       "    vendor_score             vendor_label invoice_number invoice_number_label  \\\n",
       "0            NaN               Customer 7     1d98332cd1           6161d7fa27   \n",
       "1       0.636422       Pickering Auto Lab            NaN                  NaN   \n",
       "3       0.577856                      bwc            NaN                  NaN   \n",
       "8       0.965157              Julia McRae     9c37575e05                  NaN   \n",
       "11      0.764993  Rethinking Construction     6601979663           6601979663   \n",
       "\n",
       "              bill_date      bill_date_label          vendor_clean  \\\n",
       "0   2018-08-22 00:00:00  2018-08-22 00:00:00     voiderrornotfound   \n",
       "1   2018-08-03 00:00:00  2018-08-03 00:00:00            camscanner   \n",
       "3   2018-08-06 00:00:00  2018-08-06 00:00:00            bwcohiogov   \n",
       "8   2018-08-03 00:00:00  2018-08-03 00:00:00  performancelifestyle   \n",
       "11  2018-07-21 00:00:00  2018-07-20 00:00:00       constantcontact   \n",
       "\n",
       "        vendor_label_clean  \n",
       "0                customer7  \n",
       "1         pickeringautolab  \n",
       "3                      bwc  \n",
       "8               juliamcrae  \n",
       "11  rethinkingconstruction  "
      ]
     },
     "execution_count": 122,
     "metadata": {},
     "output_type": "execute_result"
    }
   ],
   "source": [
    "df[df.vendor_clean != df.vendor_label_clean].head()"
   ]
  },
  {
   "cell_type": "markdown",
   "metadata": {},
   "source": [
    "Well, some of the vendors such as bwc.ohio.gov could be same as bwc in vendor_label. I would do my best to clean as much as I can. This time, I will try extracting first 3 letters from vendor_clean and vendor_label_clean to make more accurate matches."
   ]
  },
  {
   "cell_type": "code",
   "execution_count": 123,
   "metadata": {},
   "outputs": [],
   "source": [
    "df['vendor_clean_3'] = [i[0:3] for i in df.vendor_clean]"
   ]
  },
  {
   "cell_type": "code",
   "execution_count": 124,
   "metadata": {},
   "outputs": [],
   "source": [
    "df['vendor_label_clean_3'] = [i[0:3] for i in df.vendor_label_clean]"
   ]
  },
  {
   "cell_type": "code",
   "execution_count": 125,
   "metadata": {},
   "outputs": [
    {
     "data": {
      "text/html": [
       "<div>\n",
       "<style scoped>\n",
       "    .dataframe tbody tr th:only-of-type {\n",
       "        vertical-align: middle;\n",
       "    }\n",
       "\n",
       "    .dataframe tbody tr th {\n",
       "        vertical-align: top;\n",
       "    }\n",
       "\n",
       "    .dataframe thead th {\n",
       "        text-align: right;\n",
       "    }\n",
       "</style>\n",
       "<table border=\"1\" class=\"dataframe\">\n",
       "  <thead>\n",
       "    <tr style=\"text-align: right;\">\n",
       "      <th></th>\n",
       "      <th>id</th>\n",
       "      <th>doc_type</th>\n",
       "      <th>extractor</th>\n",
       "      <th>amount</th>\n",
       "      <th>amount_label</th>\n",
       "      <th>vendor</th>\n",
       "      <th>vendor_score</th>\n",
       "      <th>vendor_label</th>\n",
       "      <th>invoice_number</th>\n",
       "      <th>invoice_number_label</th>\n",
       "      <th>bill_date</th>\n",
       "      <th>bill_date_label</th>\n",
       "      <th>vendor_clean</th>\n",
       "      <th>vendor_label_clean</th>\n",
       "      <th>vendor_clean_3</th>\n",
       "      <th>vendor_label_clean_3</th>\n",
       "    </tr>\n",
       "  </thead>\n",
       "  <tbody>\n",
       "    <tr>\n",
       "      <th>2</th>\n",
       "      <td>52564036</td>\n",
       "      <td>png</td>\n",
       "      <td>model</td>\n",
       "      <td>193.78</td>\n",
       "      <td>193.78</td>\n",
       "      <td>orientaltrading</td>\n",
       "      <td>0.695752</td>\n",
       "      <td>Oriental Trading</td>\n",
       "      <td>4d723cddbd</td>\n",
       "      <td>NaN</td>\n",
       "      <td>2018-07-26 00:00:00</td>\n",
       "      <td>2018-07-26 00:00:00</td>\n",
       "      <td>orientaltrading</td>\n",
       "      <td>orientaltrading</td>\n",
       "      <td>ori</td>\n",
       "      <td>ori</td>\n",
       "    </tr>\n",
       "    <tr>\n",
       "      <th>3</th>\n",
       "      <td>52835653</td>\n",
       "      <td>png</td>\n",
       "      <td>model</td>\n",
       "      <td>7.00</td>\n",
       "      <td>7.00</td>\n",
       "      <td>bwc.ohio.gov</td>\n",
       "      <td>0.577856</td>\n",
       "      <td>bwc</td>\n",
       "      <td>NaN</td>\n",
       "      <td>NaN</td>\n",
       "      <td>2018-08-06 00:00:00</td>\n",
       "      <td>2018-08-06 00:00:00</td>\n",
       "      <td>bwcohiogov</td>\n",
       "      <td>bwc</td>\n",
       "      <td>bwc</td>\n",
       "      <td>bwc</td>\n",
       "    </tr>\n",
       "    <tr>\n",
       "      <th>4</th>\n",
       "      <td>52682559</td>\n",
       "      <td>pdf</td>\n",
       "      <td>human</td>\n",
       "      <td>16.33</td>\n",
       "      <td>12.02</td>\n",
       "      <td>cheritzplus</td>\n",
       "      <td>0.850405</td>\n",
       "      <td>Cheritzplus</td>\n",
       "      <td>9c0849c706</td>\n",
       "      <td>9c0849c706</td>\n",
       "      <td>1900-01-01 00:00:00</td>\n",
       "      <td>2017-08-11 00:00:00</td>\n",
       "      <td>cheritzplus</td>\n",
       "      <td>cheritzplus</td>\n",
       "      <td>che</td>\n",
       "      <td>che</td>\n",
       "    </tr>\n",
       "    <tr>\n",
       "      <th>5</th>\n",
       "      <td>52623856</td>\n",
       "      <td>png</td>\n",
       "      <td>human</td>\n",
       "      <td>-1689.50</td>\n",
       "      <td>1689.50</td>\n",
       "      <td>trademarks</td>\n",
       "      <td>0.921771</td>\n",
       "      <td>TradeMarks</td>\n",
       "      <td>a91cc97430</td>\n",
       "      <td>a91cc97430</td>\n",
       "      <td>2018-08-22 00:00:00</td>\n",
       "      <td>2018-08-22 00:00:00</td>\n",
       "      <td>trademarks</td>\n",
       "      <td>trademarks</td>\n",
       "      <td>tra</td>\n",
       "      <td>tra</td>\n",
       "    </tr>\n",
       "    <tr>\n",
       "      <th>6</th>\n",
       "      <td>51485488</td>\n",
       "      <td>pdf</td>\n",
       "      <td>human</td>\n",
       "      <td>49.59</td>\n",
       "      <td>49.59</td>\n",
       "      <td>chouchou foods</td>\n",
       "      <td>0.991448</td>\n",
       "      <td>Chouchou foods</td>\n",
       "      <td>cb2d42d2e9</td>\n",
       "      <td>cb2d42d2e9</td>\n",
       "      <td>2018-03-28 00:00:00</td>\n",
       "      <td>2018-03-28 00:00:00</td>\n",
       "      <td>chouchoufoods</td>\n",
       "      <td>chouchoufoods</td>\n",
       "      <td>cho</td>\n",
       "      <td>cho</td>\n",
       "    </tr>\n",
       "  </tbody>\n",
       "</table>\n",
       "</div>"
      ],
      "text/plain": [
       "         id doc_type extractor   amount  amount_label           vendor  \\\n",
       "2  52564036      png     model   193.78        193.78  orientaltrading   \n",
       "3  52835653      png     model     7.00          7.00     bwc.ohio.gov   \n",
       "4  52682559      pdf     human    16.33         12.02      cheritzplus   \n",
       "5  52623856      png     human -1689.50       1689.50       trademarks   \n",
       "6  51485488      pdf     human    49.59         49.59   chouchou foods   \n",
       "\n",
       "   vendor_score      vendor_label invoice_number invoice_number_label  \\\n",
       "2      0.695752  Oriental Trading     4d723cddbd                  NaN   \n",
       "3      0.577856               bwc            NaN                  NaN   \n",
       "4      0.850405       Cheritzplus     9c0849c706           9c0849c706   \n",
       "5      0.921771        TradeMarks     a91cc97430           a91cc97430   \n",
       "6      0.991448    Chouchou foods     cb2d42d2e9           cb2d42d2e9   \n",
       "\n",
       "             bill_date      bill_date_label     vendor_clean  \\\n",
       "2  2018-07-26 00:00:00  2018-07-26 00:00:00  orientaltrading   \n",
       "3  2018-08-06 00:00:00  2018-08-06 00:00:00       bwcohiogov   \n",
       "4  1900-01-01 00:00:00  2017-08-11 00:00:00      cheritzplus   \n",
       "5  2018-08-22 00:00:00  2018-08-22 00:00:00       trademarks   \n",
       "6  2018-03-28 00:00:00  2018-03-28 00:00:00    chouchoufoods   \n",
       "\n",
       "  vendor_label_clean vendor_clean_3 vendor_label_clean_3  \n",
       "2    orientaltrading            ori                  ori  \n",
       "3                bwc            bwc                  bwc  \n",
       "4        cheritzplus            che                  che  \n",
       "5         trademarks            tra                  tra  \n",
       "6      chouchoufoods            cho                  cho  "
      ]
     },
     "execution_count": 125,
     "metadata": {},
     "output_type": "execute_result"
    }
   ],
   "source": [
    "df[df.vendor_clean_3 == df.vendor_label_clean_3].head()"
   ]
  },
  {
   "cell_type": "code",
   "execution_count": 126,
   "metadata": {},
   "outputs": [
    {
     "data": {
      "text/html": [
       "<div>\n",
       "<style scoped>\n",
       "    .dataframe tbody tr th:only-of-type {\n",
       "        vertical-align: middle;\n",
       "    }\n",
       "\n",
       "    .dataframe tbody tr th {\n",
       "        vertical-align: top;\n",
       "    }\n",
       "\n",
       "    .dataframe thead th {\n",
       "        text-align: right;\n",
       "    }\n",
       "</style>\n",
       "<table border=\"1\" class=\"dataframe\">\n",
       "  <thead>\n",
       "    <tr style=\"text-align: right;\">\n",
       "      <th></th>\n",
       "      <th>id</th>\n",
       "      <th>doc_type</th>\n",
       "      <th>extractor</th>\n",
       "      <th>amount</th>\n",
       "      <th>amount_label</th>\n",
       "      <th>vendor</th>\n",
       "      <th>vendor_score</th>\n",
       "      <th>vendor_label</th>\n",
       "      <th>invoice_number</th>\n",
       "      <th>invoice_number_label</th>\n",
       "      <th>bill_date</th>\n",
       "      <th>bill_date_label</th>\n",
       "      <th>vendor_clean</th>\n",
       "      <th>vendor_label_clean</th>\n",
       "      <th>vendor_clean_3</th>\n",
       "      <th>vendor_label_clean_3</th>\n",
       "    </tr>\n",
       "  </thead>\n",
       "  <tbody>\n",
       "    <tr>\n",
       "      <th>0</th>\n",
       "      <td>52389374</td>\n",
       "      <td>pdf</td>\n",
       "      <td>model</td>\n",
       "      <td>581.70</td>\n",
       "      <td>581.70</td>\n",
       "      <td>_VOIDERROR_NOTFOUND</td>\n",
       "      <td>NaN</td>\n",
       "      <td>Customer 7</td>\n",
       "      <td>1d98332cd1</td>\n",
       "      <td>6161d7fa27</td>\n",
       "      <td>2018-08-22 00:00:00</td>\n",
       "      <td>2018-08-22 00:00:00</td>\n",
       "      <td>voiderrornotfound</td>\n",
       "      <td>customer7</td>\n",
       "      <td>voi</td>\n",
       "      <td>cus</td>\n",
       "    </tr>\n",
       "    <tr>\n",
       "      <th>1</th>\n",
       "      <td>51273675</td>\n",
       "      <td>pdf</td>\n",
       "      <td>model</td>\n",
       "      <td>-0.10</td>\n",
       "      <td>152.55</td>\n",
       "      <td>camscanner</td>\n",
       "      <td>0.636422</td>\n",
       "      <td>Pickering Auto Lab</td>\n",
       "      <td>NaN</td>\n",
       "      <td>NaN</td>\n",
       "      <td>2018-08-03 00:00:00</td>\n",
       "      <td>2018-08-03 00:00:00</td>\n",
       "      <td>camscanner</td>\n",
       "      <td>pickeringautolab</td>\n",
       "      <td>cam</td>\n",
       "      <td>pic</td>\n",
       "    </tr>\n",
       "    <tr>\n",
       "      <th>8</th>\n",
       "      <td>52542848</td>\n",
       "      <td>png</td>\n",
       "      <td>model</td>\n",
       "      <td>500.00</td>\n",
       "      <td>500.00</td>\n",
       "      <td>performance lifestyle</td>\n",
       "      <td>0.965157</td>\n",
       "      <td>Julia McRae</td>\n",
       "      <td>9c37575e05</td>\n",
       "      <td>NaN</td>\n",
       "      <td>2018-08-03 00:00:00</td>\n",
       "      <td>2018-08-03 00:00:00</td>\n",
       "      <td>performancelifestyle</td>\n",
       "      <td>juliamcrae</td>\n",
       "      <td>per</td>\n",
       "      <td>jul</td>\n",
       "    </tr>\n",
       "    <tr>\n",
       "      <th>11</th>\n",
       "      <td>53023604</td>\n",
       "      <td>png</td>\n",
       "      <td>model</td>\n",
       "      <td>50.00</td>\n",
       "      <td>50.00</td>\n",
       "      <td>constant contact</td>\n",
       "      <td>0.764993</td>\n",
       "      <td>Rethinking Construction</td>\n",
       "      <td>6601979663</td>\n",
       "      <td>6601979663</td>\n",
       "      <td>2018-07-21 00:00:00</td>\n",
       "      <td>2018-07-20 00:00:00</td>\n",
       "      <td>constantcontact</td>\n",
       "      <td>rethinkingconstruction</td>\n",
       "      <td>con</td>\n",
       "      <td>ret</td>\n",
       "    </tr>\n",
       "    <tr>\n",
       "      <th>19</th>\n",
       "      <td>52589856</td>\n",
       "      <td>pdf</td>\n",
       "      <td>model</td>\n",
       "      <td>2757.67</td>\n",
       "      <td>2757.67</td>\n",
       "      <td>eastpoint plumb</td>\n",
       "      <td>0.697405</td>\n",
       "      <td>Master</td>\n",
       "      <td>NaN</td>\n",
       "      <td>6ff70557af</td>\n",
       "      <td>2018-08-16 00:00:00</td>\n",
       "      <td>2018-08-16 00:00:00</td>\n",
       "      <td>eastpointplumb</td>\n",
       "      <td>master</td>\n",
       "      <td>eas</td>\n",
       "      <td>mas</td>\n",
       "    </tr>\n",
       "  </tbody>\n",
       "</table>\n",
       "</div>"
      ],
      "text/plain": [
       "          id doc_type extractor   amount  amount_label                 vendor  \\\n",
       "0   52389374      pdf     model   581.70        581.70    _VOIDERROR_NOTFOUND   \n",
       "1   51273675      pdf     model    -0.10        152.55             camscanner   \n",
       "8   52542848      png     model   500.00        500.00  performance lifestyle   \n",
       "11  53023604      png     model    50.00         50.00       constant contact   \n",
       "19  52589856      pdf     model  2757.67       2757.67        eastpoint plumb   \n",
       "\n",
       "    vendor_score             vendor_label invoice_number invoice_number_label  \\\n",
       "0            NaN               Customer 7     1d98332cd1           6161d7fa27   \n",
       "1       0.636422       Pickering Auto Lab            NaN                  NaN   \n",
       "8       0.965157              Julia McRae     9c37575e05                  NaN   \n",
       "11      0.764993  Rethinking Construction     6601979663           6601979663   \n",
       "19      0.697405                   Master            NaN           6ff70557af   \n",
       "\n",
       "              bill_date      bill_date_label          vendor_clean  \\\n",
       "0   2018-08-22 00:00:00  2018-08-22 00:00:00     voiderrornotfound   \n",
       "1   2018-08-03 00:00:00  2018-08-03 00:00:00            camscanner   \n",
       "8   2018-08-03 00:00:00  2018-08-03 00:00:00  performancelifestyle   \n",
       "11  2018-07-21 00:00:00  2018-07-20 00:00:00       constantcontact   \n",
       "19  2018-08-16 00:00:00  2018-08-16 00:00:00        eastpointplumb   \n",
       "\n",
       "        vendor_label_clean vendor_clean_3 vendor_label_clean_3  \n",
       "0                customer7            voi                  cus  \n",
       "1         pickeringautolab            cam                  pic  \n",
       "8               juliamcrae            per                  jul  \n",
       "11  rethinkingconstruction            con                  ret  \n",
       "19                  master            eas                  mas  "
      ]
     },
     "execution_count": 126,
     "metadata": {},
     "output_type": "execute_result"
    }
   ],
   "source": [
    "df[df.vendor_clean_3 != df.vendor_label_clean_3].head()"
   ]
  },
  {
   "cell_type": "markdown",
   "metadata": {},
   "source": [
    "Now, I will try to find partial matches from vendor_clean with vendor_label_clean and vice-versa"
   ]
  },
  {
   "cell_type": "code",
   "execution_count": 127,
   "metadata": {},
   "outputs": [],
   "source": [
    "vendor_label_clean_in = df.vendor_label_clean.apply(lambda x: pd.Series(x))\n",
    "vendor_clean_in = df.vendor_clean.apply(lambda x: pd.Series(x))"
   ]
  },
  {
   "cell_type": "code",
   "execution_count": 128,
   "metadata": {},
   "outputs": [
    {
     "name": "stderr",
     "output_type": "stream",
     "text": [
      "C:\\Users\\andy\\Anaconda3\\lib\\site-packages\\ipykernel_launcher.py:2: FutureWarning: set_value is deprecated and will be removed in a future release. Please use .at[] or .iat[] accessors instead\n",
      "  \n"
     ]
    }
   ],
   "source": [
    "for i in range(len(df)):\n",
    "    df.set_value(i,'vendor_clean_in', vendor_clean_in.iloc[i][0] in vendor_label_clean_in.iloc[i][0])"
   ]
  },
  {
   "cell_type": "code",
   "execution_count": 129,
   "metadata": {},
   "outputs": [
    {
     "name": "stderr",
     "output_type": "stream",
     "text": [
      "C:\\Users\\andy\\Anaconda3\\lib\\site-packages\\ipykernel_launcher.py:2: FutureWarning: set_value is deprecated and will be removed in a future release. Please use .at[] or .iat[] accessors instead\n",
      "  \n"
     ]
    }
   ],
   "source": [
    "for i in range(len(df)):\n",
    "    df.set_value(i,'vendor_label_clean_in', vendor_label_clean_in.iloc[i][0] in vendor_clean_in.iloc[i][0])"
   ]
  },
  {
   "cell_type": "markdown",
   "metadata": {},
   "source": [
    "Well, to be honest, nothing is perfect; I see for instance, vince's center is not the same as vincesMarket by partial matching method.\n",
    "Of course, it could be matched by first 3 letter technique but this technique also does not guarantee 100% accuracy as word patterns are all random.\n",
    "However, I would say first 3 letter technique is more accurate than partial matching techinque so I will use this in calculating accuracy."
   ]
  },
  {
   "cell_type": "markdown",
   "metadata": {},
   "source": [
    "Since some of the character patten are random/subjective, I cannot really say the technique I implied indeed is perfect or not; they all depend on business logic and how humans evaluate them. Of course, there are tons of things that are on the border line that require human evaluation. Please understand that I cannot cover all the exceptions here as it is very exhaustive effort; assuming that this project is to \"show\" how I do data-cleansing and how my cognitive thinking style is."
   ]
  },
  {
   "cell_type": "markdown",
   "metadata": {},
   "source": [
    "Accuracy is around 81% but could be higher depending on how you manually configure potential mis-match by human and machine. I really think we need integer based column (e.g, unique ID for each vendor value/vendor_label value) so that we can minimize data cleansing efforts for higher operational efficiency. (e.g. I would definately ask Data Engieering team to attach unique IDs for each prediction result in future release)"
   ]
  },
  {
   "cell_type": "code",
   "execution_count": 130,
   "metadata": {},
   "outputs": [
    {
     "data": {
      "text/plain": [
       "80.66756574511126"
      ]
     },
     "execution_count": 130,
     "metadata": {},
     "output_type": "execute_result"
    }
   ],
   "source": [
    "( len( df[df.vendor_clean_3 == df.vendor_label_clean_3] ) / len(df) ) * 100\n",
    "#( len(df[(df.vendor_label_clean_in == True) | (df.vendor_label_in == True)]) / len(df) ) * 100 <-- accuracy using Partial Matching"
   ]
  },
  {
   "cell_type": "markdown",
   "metadata": {},
   "source": [
    "# Accuracy of invoice_number"
   ]
  },
  {
   "cell_type": "markdown",
   "metadata": {},
   "source": [
    "Let's convert Null values into \"void\" to avoid mismatching."
   ]
  },
  {
   "cell_type": "code",
   "execution_count": 61,
   "metadata": {},
   "outputs": [
    {
     "name": "stderr",
     "output_type": "stream",
     "text": [
      "C:\\Users\\andy\\Anaconda3\\lib\\site-packages\\ipykernel_launcher.py:1: SettingWithCopyWarning: \n",
      "A value is trying to be set on a copy of a slice from a DataFrame\n",
      "\n",
      "See the caveats in the documentation: http://pandas.pydata.org/pandas-docs/stable/indexing.html#indexing-view-versus-copy\n",
      "  \"\"\"Entry point for launching an IPython kernel.\n",
      "C:\\Users\\andy\\Anaconda3\\lib\\site-packages\\ipykernel_launcher.py:2: SettingWithCopyWarning: \n",
      "A value is trying to be set on a copy of a slice from a DataFrame\n",
      "\n",
      "See the caveats in the documentation: http://pandas.pydata.org/pandas-docs/stable/indexing.html#indexing-view-versus-copy\n",
      "  \n"
     ]
    }
   ],
   "source": [
    "df.invoice_number[df.invoice_number.isnull()] = 'void'\n",
    "df.invoice_number_label[df.invoice_number_label.isnull()] = 'void'"
   ]
  },
  {
   "cell_type": "markdown",
   "metadata": {},
   "source": [
    "Accuracy is around 81%"
   ]
  },
  {
   "cell_type": "code",
   "execution_count": 64,
   "metadata": {},
   "outputs": [
    {
     "data": {
      "text/plain": [
       "0.8083614295347269"
      ]
     },
     "execution_count": 64,
     "metadata": {},
     "output_type": "execute_result"
    }
   ],
   "source": [
    "len(df[df.invoice_number == df.invoice_number_label]) / len(df)"
   ]
  },
  {
   "cell_type": "markdown",
   "metadata": {},
   "source": [
    "# 2. What are the top 5 vendors that have the largest number of incorrect extractions?"
   ]
  },
  {
   "cell_type": "markdown",
   "metadata": {},
   "source": [
    "Amazon, The Home Depot, Uber, google and The Cellular Connection the top 5 vendors that had most number of mismatches between vendor and vendor_label."
   ]
  },
  {
   "cell_type": "code",
   "execution_count": 65,
   "metadata": {},
   "outputs": [
    {
     "data": {
      "text/html": [
       "<div>\n",
       "<style scoped>\n",
       "    .dataframe tbody tr th:only-of-type {\n",
       "        vertical-align: middle;\n",
       "    }\n",
       "\n",
       "    .dataframe tbody tr th {\n",
       "        vertical-align: top;\n",
       "    }\n",
       "\n",
       "    .dataframe thead th {\n",
       "        text-align: right;\n",
       "    }\n",
       "</style>\n",
       "<table border=\"1\" class=\"dataframe\">\n",
       "  <thead>\n",
       "    <tr style=\"text-align: right;\">\n",
       "      <th></th>\n",
       "      <th>id</th>\n",
       "    </tr>\n",
       "    <tr>\n",
       "      <th>vendor_label</th>\n",
       "      <th></th>\n",
       "    </tr>\n",
       "  </thead>\n",
       "  <tbody>\n",
       "    <tr>\n",
       "      <th>Amazon</th>\n",
       "      <td>207</td>\n",
       "    </tr>\n",
       "    <tr>\n",
       "      <th>The Home Depot</th>\n",
       "      <td>205</td>\n",
       "    </tr>\n",
       "    <tr>\n",
       "      <th>Uber</th>\n",
       "      <td>77</td>\n",
       "    </tr>\n",
       "    <tr>\n",
       "      <th>Google</th>\n",
       "      <td>55</td>\n",
       "    </tr>\n",
       "    <tr>\n",
       "      <th>The Cellular Connection</th>\n",
       "      <td>48</td>\n",
       "    </tr>\n",
       "  </tbody>\n",
       "</table>\n",
       "</div>"
      ],
      "text/plain": [
       "                          id\n",
       "vendor_label                \n",
       "Amazon                   207\n",
       "The Home Depot           205\n",
       "Uber                      77\n",
       "Google                    55\n",
       "The Cellular Connection   48"
      ]
     },
     "execution_count": 65,
     "metadata": {},
     "output_type": "execute_result"
    }
   ],
   "source": [
    "df[df['vendor_clean'] == df['vendor_label_clean']].groupby('vendor_label')[['id']].count().sort_values(by='id', ascending = False).head()"
   ]
  },
  {
   "cell_type": "markdown",
   "metadata": {},
   "source": [
    "# 3. What is the mean and standard deviation of the vendor_score?"
   ]
  },
  {
   "cell_type": "code",
   "execution_count": 66,
   "metadata": {},
   "outputs": [
    {
     "name": "stdout",
     "output_type": "stream",
     "text": [
      "mean 0.8933991399917547 std : 0.12210921807440472\n"
     ]
    }
   ],
   "source": [
    "print(\"mean\", df['vendor_score'].mean(), \"std :\", df['vendor_score'].std() )"
   ]
  },
  {
   "cell_type": "markdown",
   "metadata": {},
   "source": [
    "# 4. Plot the distribution of vendor_scores"
   ]
  },
  {
   "cell_type": "code",
   "execution_count": 67,
   "metadata": {},
   "outputs": [
    {
     "data": {
      "text/plain": [
       "<matplotlib.axes._subplots.AxesSubplot at 0x8d97eb0>"
      ]
     },
     "execution_count": 67,
     "metadata": {},
     "output_type": "execute_result"
    },
    {
     "data": {
      "image/png": "[encoded data removed]",
      "text/plain": [
       "<Figure size 432x288 with 1 Axes>"
      ]
     },
     "metadata": {},
     "output_type": "display_data"
    }
   ],
   "source": [
    "df['vendor_score'].hist()"
   ]
  },
  {
   "cell_type": "markdown",
   "metadata": {},
   "source": [
    "# 5. Consider the three fields: amount, bill_date, vendor (we are not including invoice_number, as that is an optional field). \n",
    "What is the overall % of documents where \n",
    " 1. All fields are incorrect\n",
    " 2. 1 field is correct\n",
    " 3. 2 fields are correct\n",
    " 4. All 3 fields are correct"
   ]
  },
  {
   "cell_type": "code",
   "execution_count": 68,
   "metadata": {},
   "outputs": [],
   "source": [
    "amount_corr = (df['amount'] == df['amount_label'])"
   ]
  },
  {
   "cell_type": "code",
   "execution_count": 69,
   "metadata": {},
   "outputs": [],
   "source": [
    "bill_corr = (df.bill_date.astype('str') == df.bill_date_label.astype('str'))"
   ]
  },
  {
   "cell_type": "code",
   "execution_count": 70,
   "metadata": {},
   "outputs": [],
   "source": [
    "vendor_corr = (df['vendor_clean'] == df['vendor_label_clean'])"
   ]
  },
  {
   "cell_type": "markdown",
   "metadata": {},
   "source": [
    "All fields are incorrect - 1.45 % of them"
   ]
  },
  {
   "cell_type": "code",
   "execution_count": 71,
   "metadata": {},
   "outputs": [],
   "source": [
    "incorr_3 = (len(df[~amount_corr & ~bill_corr & ~vendor_corr]) / len(df)) * 100"
   ]
  },
  {
   "cell_type": "code",
   "execution_count": 72,
   "metadata": {},
   "outputs": [
    {
     "data": {
      "text/plain": [
       "1.4497639919082939"
      ]
     },
     "execution_count": 72,
     "metadata": {},
     "output_type": "execute_result"
    }
   ],
   "source": [
    "incorr_3"
   ]
  },
  {
   "cell_type": "markdown",
   "metadata": {},
   "source": [
    "All 3 fields are correct - 44.8% of them"
   ]
  },
  {
   "cell_type": "code",
   "execution_count": 73,
   "metadata": {},
   "outputs": [],
   "source": [
    "corr_3 = (len(df[amount_corr & bill_corr & vendor_corr]) / len(df)) * 100"
   ]
  },
  {
   "cell_type": "code",
   "execution_count": 74,
   "metadata": {},
   "outputs": [
    {
     "data": {
      "text/plain": [
       "44.80107889413351"
      ]
     },
     "execution_count": 74,
     "metadata": {},
     "output_type": "execute_result"
    }
   ],
   "source": [
    "corr_3"
   ]
  },
  {
   "cell_type": "markdown",
   "metadata": {},
   "source": [
    "2 fields are correct - 40.32% of them"
   ]
  },
  {
   "cell_type": "code",
   "execution_count": 75,
   "metadata": {},
   "outputs": [],
   "source": [
    "corr_2 = ( (len(df[amount_corr & bill_corr & ~vendor_corr]) + len(df[amount_corr & ~bill_corr & vendor_corr]) + len(df[~amount_corr & bill_corr & vendor_corr]) ) / len(df) ) * 100"
   ]
  },
  {
   "cell_type": "code",
   "execution_count": 76,
   "metadata": {},
   "outputs": [
    {
     "data": {
      "text/plain": [
       "40.32366824005395"
      ]
     },
     "execution_count": 76,
     "metadata": {},
     "output_type": "execute_result"
    }
   ],
   "source": [
    "corr_2"
   ]
  },
  {
   "cell_type": "markdown",
   "metadata": {},
   "source": [
    "1 field is correct - 13.43% of them"
   ]
  },
  {
   "cell_type": "code",
   "execution_count": 77,
   "metadata": {},
   "outputs": [],
   "source": [
    "corr_1 = ( (len(df[amount_corr & ~bill_corr & ~vendor_corr]) + len(df[~amount_corr & ~bill_corr & vendor_corr]) + len(df[~amount_corr & bill_corr & ~vendor_corr]) ) / len(df) ) * 100"
   ]
  },
  {
   "cell_type": "code",
   "execution_count": 78,
   "metadata": {},
   "outputs": [
    {
     "data": {
      "text/plain": [
       "13.425488873904248"
      ]
     },
     "execution_count": 78,
     "metadata": {},
     "output_type": "execute_result"
    }
   ],
   "source": [
    "corr_1"
   ]
  },
  {
   "cell_type": "markdown",
   "metadata": {},
   "source": [
    "# How do results in #5 differ between different extractors, and different doc_types? "
   ]
  },
  {
   "cell_type": "code",
   "execution_count": 79,
   "metadata": {},
   "outputs": [],
   "source": [
    "incorr_3_ext = ( df[~amount_corr & ~bill_corr & ~vendor_corr].groupby('extractor')['id'].count() / len(df) ) * 100\n",
    "incorr_3_doc = ( df[~amount_corr & ~bill_corr & ~vendor_corr].groupby('doc_type')['id'].count() / len(df) ) * 100"
   ]
  },
  {
   "cell_type": "markdown",
   "metadata": {},
   "source": [
    "All fields are incorrect - human 0.78%, model 0.67"
   ]
  },
  {
   "cell_type": "code",
   "execution_count": 80,
   "metadata": {},
   "outputs": [
    {
     "data": {
      "text/plain": [
       "extractor\n",
       "human    0.782198\n",
       "model    0.667566\n",
       "Name: id, dtype: float64"
      ]
     },
     "execution_count": 80,
     "metadata": {},
     "output_type": "execute_result"
    }
   ],
   "source": [
    "incorr_3_ext "
   ]
  },
  {
   "cell_type": "markdown",
   "metadata": {},
   "source": [
    "All fields are incorrect - pdf 0.28%, png 1.17%"
   ]
  },
  {
   "cell_type": "code",
   "execution_count": 81,
   "metadata": {},
   "outputs": [
    {
     "data": {
      "text/plain": [
       "doc_type\n",
       "pdf    0.276467\n",
       "png    1.173297\n",
       "Name: id, dtype: float64"
      ]
     },
     "execution_count": 81,
     "metadata": {},
     "output_type": "execute_result"
    }
   ],
   "source": [
    "incorr_3_doc"
   ]
  },
  {
   "cell_type": "code",
   "execution_count": 83,
   "metadata": {},
   "outputs": [],
   "source": [
    "corr_3_ext = ( df[amount_corr & bill_corr & vendor_corr].groupby('extractor')['id'].count() / len(df) ) * 100\n",
    "corr_3_doc = ( df[amount_corr & bill_corr & vendor_corr].groupby('doc_type')['id'].count() / len(df) ) * 100"
   ]
  },
  {
   "cell_type": "markdown",
   "metadata": {},
   "source": [
    "All 3 fields are correct - human 14.9%, model 29.9%"
   ]
  },
  {
   "cell_type": "code",
   "execution_count": 84,
   "metadata": {},
   "outputs": [
    {
     "data": {
      "text/plain": [
       "extractor\n",
       "human    14.888739\n",
       "model    29.912340\n",
       "Name: id, dtype: float64"
      ]
     },
     "execution_count": 84,
     "metadata": {},
     "output_type": "execute_result"
    }
   ],
   "source": [
    "corr_3_ext"
   ]
  },
  {
   "cell_type": "markdown",
   "metadata": {},
   "source": [
    "All 3 fields are correct - pdf 34.7%, png 10.1%"
   ]
  },
  {
   "cell_type": "code",
   "execution_count": 85,
   "metadata": {},
   "outputs": [
    {
     "data": {
      "text/plain": [
       "doc_type\n",
       "pdf    34.679703\n",
       "png    10.121376\n",
       "Name: id, dtype: float64"
      ]
     },
     "execution_count": 85,
     "metadata": {},
     "output_type": "execute_result"
    }
   ],
   "source": [
    "corr_3_doc"
   ]
  },
  {
   "cell_type": "code",
   "execution_count": 86,
   "metadata": {},
   "outputs": [],
   "source": [
    "frames = [df[amount_corr & bill_corr & ~vendor_corr],df[amount_corr & ~bill_corr & vendor_corr] ,df[~amount_corr & bill_corr & vendor_corr] ]"
   ]
  },
  {
   "cell_type": "code",
   "execution_count": 87,
   "metadata": {},
   "outputs": [],
   "source": [
    "corr_2_dfs = pd.concat(frames)"
   ]
  },
  {
   "cell_type": "code",
   "execution_count": 88,
   "metadata": {},
   "outputs": [],
   "source": [
    "corr_2_ext = ( corr_2_dfs.groupby('extractor')['id'].count() / len(df) ) * 100\n",
    "corr_2_doc = ( corr_2_dfs.groupby('doc_type')['id'].count() / len(df) ) * 100"
   ]
  },
  {
   "cell_type": "markdown",
   "metadata": {},
   "source": [
    "2 fields are correct - human 17.6%, model 22.7%"
   ]
  },
  {
   "cell_type": "code",
   "execution_count": 89,
   "metadata": {},
   "outputs": [
    {
     "data": {
      "text/plain": [
       "extractor\n",
       "human    17.646662\n",
       "model    22.677006\n",
       "Name: id, dtype: float64"
      ]
     },
     "execution_count": 89,
     "metadata": {},
     "output_type": "execute_result"
    }
   ],
   "source": [
    "corr_2_ext"
   ]
  },
  {
   "cell_type": "markdown",
   "metadata": {},
   "source": [
    "2 fields are correct - pdf 28.2%, png 12.1%"
   ]
  },
  {
   "cell_type": "code",
   "execution_count": 90,
   "metadata": {},
   "outputs": [
    {
     "data": {
      "text/plain": [
       "doc_type\n",
       "pdf    28.179366\n",
       "png    12.144302\n",
       "Name: id, dtype: float64"
      ]
     },
     "execution_count": 90,
     "metadata": {},
     "output_type": "execute_result"
    }
   ],
   "source": [
    "corr_2_doc"
   ]
  },
  {
   "cell_type": "code",
   "execution_count": 91,
   "metadata": {},
   "outputs": [],
   "source": [
    "frames = [df[amount_corr & ~bill_corr & ~vendor_corr], df[~amount_corr & ~bill_corr & vendor_corr], df[~amount_corr & bill_corr & ~vendor_corr] ]"
   ]
  },
  {
   "cell_type": "code",
   "execution_count": 92,
   "metadata": {},
   "outputs": [],
   "source": [
    "corr_1_dfs = pd.concat(frames)"
   ]
  },
  {
   "cell_type": "code",
   "execution_count": 93,
   "metadata": {},
   "outputs": [],
   "source": [
    "corr_1_ext = ( corr_1_dfs.groupby('extractor')['id'].count() / len(df) ) * 100\n",
    "corr_1_doc = ( corr_1_dfs.groupby('doc_type')['id'].count() / len(df) ) * 100"
   ]
  },
  {
   "cell_type": "markdown",
   "metadata": {},
   "source": [
    "1 field is correct - human 5.5%, model 8%"
   ]
  },
  {
   "cell_type": "code",
   "execution_count": 94,
   "metadata": {},
   "outputs": [
    {
     "data": {
      "text/plain": [
       "extractor\n",
       "human    5.468645\n",
       "model    7.956844\n",
       "Name: id, dtype: float64"
      ]
     },
     "execution_count": 94,
     "metadata": {},
     "output_type": "execute_result"
    }
   ],
   "source": [
    "corr_1_ext"
   ]
  },
  {
   "cell_type": "markdown",
   "metadata": {},
   "source": [
    "1 field is correct - pdf 9%, png 4.5%"
   ]
  },
  {
   "cell_type": "code",
   "execution_count": 95,
   "metadata": {},
   "outputs": [
    {
     "data": {
      "text/plain": [
       "doc_type\n",
       "pdf    8.961564\n",
       "png    4.463924\n",
       "Name: id, dtype: float64"
      ]
     },
     "execution_count": 95,
     "metadata": {},
     "output_type": "execute_result"
    }
   ],
   "source": [
    "corr_1_doc"
   ]
  }
 ],
 "metadata": {
  "kernelspec": {
   "display_name": "Python 3",
   "language": "python",
   "name": "python3"
  },
  "language_info": {
   "codemirror_mode": {
    "name": "ipython",
    "version": 3
   },
   "file_extension": ".py",
   "mimetype": "text/x-python",
   "name": "python",
   "nbconvert_exporter": "python",
   "pygments_lexer": "ipython3",
   "version": "3.6.5"
  }
 },
 "nbformat": 4,
 "nbformat_minor": 2
}
