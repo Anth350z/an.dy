{
 "cells": [
  {
   "cell_type": "markdown",
   "metadata": {},
   "source": [
    "Final Project Proposal - DATA 620\n",
    "\n",
    "Team 6: Sang Yoon (Andy) Hwang, Santosh Manjrekar, Dhananjay Kumar, Matheesha Thambeliyagodage\n",
    "\n",
    "We will use Twitter API for data extraction (if we need other data source, we may replace it with it or add to it).\n",
    "We will use one or more celebrities' tweets (or famous person) to perform sentiment analysis, n-gram, K-mean clustering and other useful techniques as necessary. \n",
    "Our plan is to analyze particular person's tweets in twitter world in terms of negative, positive, neutral sentiment, frequency of words, number of hashtags, word associations, euclidean distance and etc. We want to see the relationship of impacts from above analysis to other variables (e.g stock market price movement of Macy's or other firms) if there is any.\n",
    "The realistic concern is that we may not find any correlation between negative tweets from Trump and company's stock value, for example. However, it is still worth it to investigate and experiment.\n",
    "The roles and responsibilities will be shared equally. We will all participate equally in coding, planning and designing as there will be no designated coder, planner or designer separately."
   ]
  },
  {
   "cell_type": "code",
   "execution_count": null,
   "metadata": {},
   "outputs": [],
   "source": []
  }
 ],
 "metadata": {
  "kernelspec": {
   "display_name": "Python 3",
   "language": "python",
   "name": "python3"
  },
  "language_info": {
   "codemirror_mode": {
    "name": "ipython",
    "version": 3
   },
   "file_extension": ".py",
   "mimetype": "text/x-python",
   "name": "python",
   "nbconvert_exporter": "python",
   "pygments_lexer": "ipython3",
   "version": "3.6.5"
  }
 },
 "nbformat": 4,
 "nbformat_minor": 2
}
