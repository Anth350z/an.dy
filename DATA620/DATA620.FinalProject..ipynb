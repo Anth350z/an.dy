{
 "cells": [
  {
   "cell_type": "code",
   "execution_count": 13,
   "metadata": {},
   "outputs": [],
   "source": [
    "# General:\n",
    "import tweepy           # To consume Twitter's API\n",
    "import pandas as pd     # To handle data\n",
    "import numpy as np      # For number computing\n",
    "import scipy\n",
    "# For plotting and visualization:\n",
    "from IPython.display import display\n",
    "import matplotlib.pyplot as plt\n",
    "import seaborn as sns\n",
    "%matplotlib inline"
   ]
  },
  {
   "cell_type": "code",
   "execution_count": 4,
   "metadata": {},
   "outputs": [],
   "source": [
    "# Twitter App access keys for @user\n",
    "\n",
    "# Consume:\n",
    "CONSUMER_KEY    = 'D7PQj2xuuw2CQunHiLFCUyy8v'\n",
    "CONSUMER_SECRET = '0u9PwH9JhLsvndnsRv5tF2NyoH7KJim2CruJ4zVE7TsMZetHFi'\n",
    "\n",
    "# Access:\n",
    "ACCESS_TOKEN  = '2163444086-30rJ2fINs8CNQiCslKpIMcSGC3eeqMMaQRLWesH'\n",
    "ACCESS_SECRET = 'aQOkHU0pH5q5vEto6VnlNZYlUOm6EdrI5lPMDatFtk1dn'"
   ]
  },
  {
   "cell_type": "code",
   "execution_count": 6,
   "metadata": {},
   "outputs": [],
   "source": [
    "# We import our access keys:\n",
    "from credentials import *    # This will allow us to use the keys as variables\n",
    "\n",
    "# API's setup:\n",
    "def twitter_setup():\n",
    "    \"\"\"\n",
    "    Utility function to setup the Twitter's API\n",
    "    with our access keys provided.\n",
    "    \"\"\"\n",
    "    # Authentication and access using keys:\n",
    "    auth = tweepy.OAuthHandler(CONSUMER_KEY, CONSUMER_SECRET)\n",
    "    auth.set_access_token(ACCESS_TOKEN, ACCESS_SECRET)\n",
    "\n",
    "    # Return API with authentication:\n",
    "    api = tweepy.API(auth)\n",
    "    return api"
   ]
  },
  {
   "cell_type": "code",
   "execution_count": 7,
   "metadata": {},
   "outputs": [
    {
     "name": "stdout",
     "output_type": "stream",
     "text": [
      "Number of tweets extracted: 200.\n",
      "\n",
      "5 recent tweets:\n",
      "\n",
      "The economy of the United States is stronger than ever before!\n",
      "\n",
      "Thank you @RandPaul. “The President has gone through a year and a half of totally partisan investigations - what’s he supposed to think?”\n",
      "\n",
      "While I had a great meeting with NATO, raising vast amounts of money, I had an even better meeting with Vladimir Pu… https://t.co/4BGXYfNXl9\n",
      "\n",
      "I had a great meeting with NATO. They have paid $33 Billion more and will pay hundreds of Billions of Dollars more… https://t.co/7M1kcZrfmo\n",
      "\n",
      "Will be interviewed on @seanhannity tonight at 9pmE and @TuckerCarlson tomorrow night at 8pmE. Enjoy!\n",
      "\n"
     ]
    }
   ],
   "source": [
    "# We create an extractor object:\n",
    "extractor = twitter_setup()\n",
    "\n",
    "# We create a tweet list as follows:\n",
    "tweets = extractor.user_timeline(screen_name=\"realDonaldTrump\", count=200)\n",
    "print(\"Number of tweets extracted: {}.\\n\".format(len(tweets)))\n",
    "\n",
    "# We print the most recent 5 tweets:\n",
    "print(\"5 recent tweets:\\n\")\n",
    "for tweet in tweets[:5]:\n",
    "    print(tweet.text)\n",
    "    print()"
   ]
  },
  {
   "cell_type": "code",
   "execution_count": 8,
   "metadata": {},
   "outputs": [
    {
     "data": {
      "text/html": [
       "<div>\n",
       "<style>\n",
       "    .dataframe thead tr:only-child th {\n",
       "        text-align: right;\n",
       "    }\n",
       "\n",
       "    .dataframe thead th {\n",
       "        text-align: left;\n",
       "    }\n",
       "\n",
       "    .dataframe tbody tr th {\n",
       "        vertical-align: top;\n",
       "    }\n",
       "</style>\n",
       "<table border=\"1\" class=\"dataframe\">\n",
       "  <thead>\n",
       "    <tr style=\"text-align: right;\">\n",
       "      <th></th>\n",
       "      <th>Tweets</th>\n",
       "    </tr>\n",
       "  </thead>\n",
       "  <tbody>\n",
       "    <tr>\n",
       "      <th>0</th>\n",
       "      <td>The economy of the United States is stronger t...</td>\n",
       "    </tr>\n",
       "    <tr>\n",
       "      <th>1</th>\n",
       "      <td>Thank you @RandPaul. “The President has gone t...</td>\n",
       "    </tr>\n",
       "    <tr>\n",
       "      <th>2</th>\n",
       "      <td>While I had a great meeting with NATO, raising...</td>\n",
       "    </tr>\n",
       "    <tr>\n",
       "      <th>3</th>\n",
       "      <td>I had a great meeting with NATO. They have pai...</td>\n",
       "    </tr>\n",
       "    <tr>\n",
       "      <th>4</th>\n",
       "      <td>Will be interviewed on @seanhannity tonight at...</td>\n",
       "    </tr>\n",
       "    <tr>\n",
       "      <th>5</th>\n",
       "      <td>A productive dialogue is not only good for the...</td>\n",
       "    </tr>\n",
       "    <tr>\n",
       "      <th>6</th>\n",
       "      <td>I would rather take a political risk in pursui...</td>\n",
       "    </tr>\n",
       "    <tr>\n",
       "      <th>7</th>\n",
       "      <td>As I said today and many times before, “I have...</td>\n",
       "    </tr>\n",
       "    <tr>\n",
       "      <th>8</th>\n",
       "      <td>Thank you Helsinki, Finland! https://t.co/rh4N...</td>\n",
       "    </tr>\n",
       "    <tr>\n",
       "      <th>9</th>\n",
       "      <td>Joint Press Conference from Helsinki, Finland:...</td>\n",
       "    </tr>\n",
       "  </tbody>\n",
       "</table>\n",
       "</div>"
      ],
      "text/plain": [
       "                                              Tweets\n",
       "0  The economy of the United States is stronger t...\n",
       "1  Thank you @RandPaul. “The President has gone t...\n",
       "2  While I had a great meeting with NATO, raising...\n",
       "3  I had a great meeting with NATO. They have pai...\n",
       "4  Will be interviewed on @seanhannity tonight at...\n",
       "5  A productive dialogue is not only good for the...\n",
       "6  I would rather take a political risk in pursui...\n",
       "7  As I said today and many times before, “I have...\n",
       "8  Thank you Helsinki, Finland! https://t.co/rh4N...\n",
       "9  Joint Press Conference from Helsinki, Finland:..."
      ]
     },
     "metadata": {},
     "output_type": "display_data"
    }
   ],
   "source": [
    "# We create a pandas dataframe as follows:\n",
    "data = pd.DataFrame(data=[tweet.text for tweet in tweets], columns=['Tweets'])\n",
    "\n",
    "# We display the first 10 elements of the dataframe:\n",
    "display(data.head(10))"
   ]
  },
  {
   "cell_type": "code",
   "execution_count": 9,
   "metadata": {},
   "outputs": [
    {
     "name": "stdout",
     "output_type": "stream",
     "text": [
      "['__class__', '__delattr__', '__dict__', '__dir__', '__doc__', '__eq__', '__format__', '__ge__', '__getattribute__', '__getstate__', '__gt__', '__hash__', '__init__', '__init_subclass__', '__le__', '__lt__', '__module__', '__ne__', '__new__', '__reduce__', '__reduce_ex__', '__repr__', '__setattr__', '__sizeof__', '__str__', '__subclasshook__', '__weakref__', '_api', '_json', 'author', 'contributors', 'coordinates', 'created_at', 'destroy', 'entities', 'favorite', 'favorite_count', 'favorited', 'geo', 'id', 'id_str', 'in_reply_to_screen_name', 'in_reply_to_status_id', 'in_reply_to_status_id_str', 'in_reply_to_user_id', 'in_reply_to_user_id_str', 'is_quote_status', 'lang', 'parse', 'parse_list', 'place', 'retweet', 'retweet_count', 'retweeted', 'retweets', 'source', 'source_url', 'text', 'truncated', 'user']\n"
     ]
    }
   ],
   "source": [
    "# Internal methods of a single tweet object:\n",
    "print(dir(tweets[0]))"
   ]
  },
  {
   "cell_type": "code",
   "execution_count": 10,
   "metadata": {},
   "outputs": [
    {
     "name": "stdout",
     "output_type": "stream",
     "text": [
      "1019230023897833479\n",
      "2018-07-17 14:39:08\n",
      "Twitter for iPhone\n",
      "68186\n",
      "14031\n",
      "None\n",
      "None\n",
      "{'hashtags': [], 'symbols': [], 'user_mentions': [], 'urls': []}\n"
     ]
    }
   ],
   "source": [
    "# We print info from the first tweet:\n",
    "print(tweets[0].id)\n",
    "print(tweets[0].created_at)\n",
    "print(tweets[0].source)\n",
    "print(tweets[0].favorite_count)\n",
    "print(tweets[0].retweet_count)\n",
    "print(tweets[0].geo)\n",
    "print(tweets[0].coordinates)\n",
    "print(tweets[0].entities)"
   ]
  },
  {
   "cell_type": "code",
   "execution_count": 11,
   "metadata": {
    "collapsed": true
   },
   "outputs": [],
   "source": [
    "# We add relevant data:\n",
    "data['len']  = np.array([len(tweet.text) for tweet in tweets])\n",
    "data['ID']   = np.array([tweet.id for tweet in tweets])\n",
    "data['Date'] = np.array([tweet.created_at for tweet in tweets])\n",
    "data['Source'] = np.array([tweet.source for tweet in tweets])\n",
    "data['Likes']  = np.array([tweet.favorite_count for tweet in tweets])\n",
    "data['RTs']    = np.array([tweet.retweet_count for tweet in tweets])"
   ]
  },
  {
   "cell_type": "code",
   "execution_count": 12,
   "metadata": {},
   "outputs": [
    {
     "data": {
      "text/html": [
       "<div>\n",
       "<style>\n",
       "    .dataframe thead tr:only-child th {\n",
       "        text-align: right;\n",
       "    }\n",
       "\n",
       "    .dataframe thead th {\n",
       "        text-align: left;\n",
       "    }\n",
       "\n",
       "    .dataframe tbody tr th {\n",
       "        vertical-align: top;\n",
       "    }\n",
       "</style>\n",
       "<table border=\"1\" class=\"dataframe\">\n",
       "  <thead>\n",
       "    <tr style=\"text-align: right;\">\n",
       "      <th></th>\n",
       "      <th>Tweets</th>\n",
       "      <th>len</th>\n",
       "      <th>ID</th>\n",
       "      <th>Date</th>\n",
       "      <th>Source</th>\n",
       "      <th>Likes</th>\n",
       "      <th>RTs</th>\n",
       "    </tr>\n",
       "  </thead>\n",
       "  <tbody>\n",
       "    <tr>\n",
       "      <th>0</th>\n",
       "      <td>The economy of the United States is stronger t...</td>\n",
       "      <td>62</td>\n",
       "      <td>1019230023897833479</td>\n",
       "      <td>2018-07-17 14:39:08</td>\n",
       "      <td>Twitter for iPhone</td>\n",
       "      <td>68186</td>\n",
       "      <td>14031</td>\n",
       "    </tr>\n",
       "    <tr>\n",
       "      <th>1</th>\n",
       "      <td>Thank you @RandPaul. “The President has gone t...</td>\n",
       "      <td>137</td>\n",
       "      <td>1019228676460773377</td>\n",
       "      <td>2018-07-17 14:33:47</td>\n",
       "      <td>Twitter for iPhone</td>\n",
       "      <td>49236</td>\n",
       "      <td>11724</td>\n",
       "    </tr>\n",
       "    <tr>\n",
       "      <th>2</th>\n",
       "      <td>While I had a great meeting with NATO, raising...</td>\n",
       "      <td>140</td>\n",
       "      <td>1019225830298456066</td>\n",
       "      <td>2018-07-17 14:22:28</td>\n",
       "      <td>Twitter for iPhone</td>\n",
       "      <td>60939</td>\n",
       "      <td>15884</td>\n",
       "    </tr>\n",
       "    <tr>\n",
       "      <th>3</th>\n",
       "      <td>I had a great meeting with NATO. They have pai...</td>\n",
       "      <td>139</td>\n",
       "      <td>1019218575691837443</td>\n",
       "      <td>2018-07-17 13:53:39</td>\n",
       "      <td>Twitter for iPhone</td>\n",
       "      <td>62672</td>\n",
       "      <td>15048</td>\n",
       "    </tr>\n",
       "    <tr>\n",
       "      <th>4</th>\n",
       "      <td>Will be interviewed on @seanhannity tonight at...</td>\n",
       "      <td>101</td>\n",
       "      <td>1018992115810910208</td>\n",
       "      <td>2018-07-16 22:53:47</td>\n",
       "      <td>Twitter for iPhone</td>\n",
       "      <td>64220</td>\n",
       "      <td>13920</td>\n",
       "    </tr>\n",
       "    <tr>\n",
       "      <th>5</th>\n",
       "      <td>A productive dialogue is not only good for the...</td>\n",
       "      <td>136</td>\n",
       "      <td>1018956970143858688</td>\n",
       "      <td>2018-07-16 20:34:07</td>\n",
       "      <td>Twitter for iPhone</td>\n",
       "      <td>70932</td>\n",
       "      <td>19083</td>\n",
       "    </tr>\n",
       "    <tr>\n",
       "      <th>6</th>\n",
       "      <td>I would rather take a political risk in pursui...</td>\n",
       "      <td>138</td>\n",
       "      <td>1018955906690584576</td>\n",
       "      <td>2018-07-16 20:29:54</td>\n",
       "      <td>Twitter for iPhone</td>\n",
       "      <td>107070</td>\n",
       "      <td>30569</td>\n",
       "    </tr>\n",
       "    <tr>\n",
       "      <th>7</th>\n",
       "      <td>As I said today and many times before, “I have...</td>\n",
       "      <td>140</td>\n",
       "      <td>1018943446583668736</td>\n",
       "      <td>2018-07-16 19:40:23</td>\n",
       "      <td>Twitter for iPhone</td>\n",
       "      <td>115964</td>\n",
       "      <td>28158</td>\n",
       "    </tr>\n",
       "    <tr>\n",
       "      <th>8</th>\n",
       "      <td>Thank you Helsinki, Finland! https://t.co/rh4N...</td>\n",
       "      <td>52</td>\n",
       "      <td>1018900904735531014</td>\n",
       "      <td>2018-07-16 16:51:20</td>\n",
       "      <td>Twitter for iPhone</td>\n",
       "      <td>81695</td>\n",
       "      <td>15870</td>\n",
       "    </tr>\n",
       "    <tr>\n",
       "      <th>9</th>\n",
       "      <td>Joint Press Conference from Helsinki, Finland:...</td>\n",
       "      <td>70</td>\n",
       "      <td>1018890862653157381</td>\n",
       "      <td>2018-07-16 16:11:26</td>\n",
       "      <td>Twitter for iPhone</td>\n",
       "      <td>47552</td>\n",
       "      <td>12568</td>\n",
       "    </tr>\n",
       "  </tbody>\n",
       "</table>\n",
       "</div>"
      ],
      "text/plain": [
       "                                              Tweets  len  \\\n",
       "0  The economy of the United States is stronger t...   62   \n",
       "1  Thank you @RandPaul. “The President has gone t...  137   \n",
       "2  While I had a great meeting with NATO, raising...  140   \n",
       "3  I had a great meeting with NATO. They have pai...  139   \n",
       "4  Will be interviewed on @seanhannity tonight at...  101   \n",
       "5  A productive dialogue is not only good for the...  136   \n",
       "6  I would rather take a political risk in pursui...  138   \n",
       "7  As I said today and many times before, “I have...  140   \n",
       "8  Thank you Helsinki, Finland! https://t.co/rh4N...   52   \n",
       "9  Joint Press Conference from Helsinki, Finland:...   70   \n",
       "\n",
       "                    ID                Date              Source   Likes    RTs  \n",
       "0  1019230023897833479 2018-07-17 14:39:08  Twitter for iPhone   68186  14031  \n",
       "1  1019228676460773377 2018-07-17 14:33:47  Twitter for iPhone   49236  11724  \n",
       "2  1019225830298456066 2018-07-17 14:22:28  Twitter for iPhone   60939  15884  \n",
       "3  1019218575691837443 2018-07-17 13:53:39  Twitter for iPhone   62672  15048  \n",
       "4  1018992115810910208 2018-07-16 22:53:47  Twitter for iPhone   64220  13920  \n",
       "5  1018956970143858688 2018-07-16 20:34:07  Twitter for iPhone   70932  19083  \n",
       "6  1018955906690584576 2018-07-16 20:29:54  Twitter for iPhone  107070  30569  \n",
       "7  1018943446583668736 2018-07-16 19:40:23  Twitter for iPhone  115964  28158  \n",
       "8  1018900904735531014 2018-07-16 16:51:20  Twitter for iPhone   81695  15870  \n",
       "9  1018890862653157381 2018-07-16 16:11:26  Twitter for iPhone   47552  12568  "
      ]
     },
     "metadata": {},
     "output_type": "display_data"
    }
   ],
   "source": [
    "# Display of first 10 elements from dataframe:\n",
    "display(data.head(10))"
   ]
  },
  {
   "cell_type": "code",
   "execution_count": 14,
   "metadata": {
    "collapsed": true
   },
   "outputs": [],
   "source": [
    "#try using dendrogram by parsing texts into words\n",
    "from scipy.cluster.hierarchy import dendrogram, linkage, set_link_color_palette"
   ]
  },
  {
   "cell_type": "code",
   "execution_count": 15,
   "metadata": {},
   "outputs": [
    {
     "ename": "NameError",
     "evalue": "name 'df' is not defined",
     "output_type": "error",
     "traceback": [
      "\u001b[1;31m---------------------------------------------------------------------------\u001b[0m",
      "\u001b[1;31mNameError\u001b[0m                                 Traceback (most recent call last)",
      "\u001b[1;32m<ipython-input-15-cee5edd74254>\u001b[0m in \u001b[0;36m<module>\u001b[1;34m()\u001b[0m\n\u001b[1;32m----> 1\u001b[1;33m \u001b[0mlink\u001b[0m \u001b[1;33m=\u001b[0m \u001b[0mlinkage\u001b[0m\u001b[1;33m(\u001b[0m\u001b[0mdf\u001b[0m\u001b[1;33m,\u001b[0m \u001b[0mmethod\u001b[0m\u001b[1;33m=\u001b[0m\u001b[1;34m'complete'\u001b[0m\u001b[1;33m)\u001b[0m\u001b[1;33m\u001b[0m\u001b[0m\n\u001b[0m",
      "\u001b[1;31mNameError\u001b[0m: name 'df' is not defined"
     ]
    }
   ],
   "source": [
    "link = linkage(data, method='complete')"
   ]
  },
  {
   "cell_type": "code",
   "execution_count": null,
   "metadata": {
    "collapsed": true
   },
   "outputs": [],
   "source": []
  }
 ],
 "metadata": {
  "kernelspec": {
   "display_name": "Python 3",
   "language": "python",
   "name": "python3"
  },
  "language_info": {
   "codemirror_mode": {
    "name": "ipython",
    "version": 3
   },
   "file_extension": ".py",
   "mimetype": "text/x-python",
   "name": "python",
   "nbconvert_exporter": "python",
   "pygments_lexer": "ipython3",
   "version": "3.6.3"
  }
 },
 "nbformat": 4,
 "nbformat_minor": 2
}
